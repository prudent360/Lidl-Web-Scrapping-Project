{
 "cells": [
  {
   "cell_type": "code",
   "execution_count": 85,
   "id": "88179f90",
   "metadata": {},
   "outputs": [],
   "source": [
    "from bs4 import BeautifulSoup\n",
    "import mechanize"
   ]
  },
  {
   "cell_type": "markdown",
   "id": "a4118d41",
   "metadata": {},
   "source": [
    "### Creating a Browser Instance"
   ]
  },
  {
   "cell_type": "code",
   "execution_count": 86,
   "id": "9b78dd13",
   "metadata": {},
   "outputs": [],
   "source": [
    "br = mechanize.Browser()\n",
    "br.set_handle_robots(False)  # Google demands a user-agent that isn't a robot"
   ]
  },
  {
   "cell_type": "code",
   "execution_count": 87,
   "id": "5b2bf842",
   "metadata": {},
   "outputs": [],
   "source": [
    "br.addheaders = [(\"User-agent\", \"Edge\")]  # if chrome is not installed, you may also select 'firefox'"
   ]
  },
  {
   "cell_type": "markdown",
   "id": "9b97023d",
   "metadata": {},
   "source": [
    "### Opening a web page"
   ]
  },
  {
   "cell_type": "code",
   "execution_count": 88,
   "id": "3f2afb3a",
   "metadata": {},
   "outputs": [],
   "source": [
    "# Accessing Lidl web page\n",
    "response = br.open(\"https://uk.trustpilot.com/review/www.lidl.co.uk\")"
   ]
  },
  {
   "cell_type": "markdown",
   "id": "42ef4fec",
   "metadata": {},
   "source": [
    "## Exercise 2: Scraping the Reviews"
   ]
  },
  {
   "cell_type": "code",
   "execution_count": 89,
   "id": "52427373",
   "metadata": {},
   "outputs": [],
   "source": [
    "web_page = response.read()\n",
    "soup = BeautifulSoup(web_page, \"html.parser\")"
   ]
  },
  {
   "cell_type": "code",
   "execution_count": 90,
   "id": "db6ca10e",
   "metadata": {},
   "outputs": [
    {
     "data": {
      "text/plain": [
       "[<article class=\"styles_reviewCard__wHynN\" data-service-review-card-paper=\"true\"><aside aria-label=\"Info for J Q\" class=\"styles_consumerInfoWrapper__uQZDN\"><div class=\"styles_consumerDetailsWrapper__LSBJS\"><div class=\"avatar_imageWrapper__9hWrp\" style=\"width:44px;height:44px;min-width:44px;min-height:44px\"><img alt=\"\" data-consumer-avatar-image=\"true\" data-nimg=\"1\" decoding=\"async\" height=\"44\" loading=\"lazy\" src=\"https://user-images.trustpilot.com/67dc432e20cf684fc766a783/73x73.png\" style=\"color:transparent\" width=\"44\"/></div><a class=\"link_internal__Eam_b link_wrapper__ahpyq styles_consumerDetails__qg84T\" data-consumer-profile-link=\"true\" href=\"/users/67dc432e20cf684fc766a783\" name=\"consumer-profile\" rel=\"nofollow\" target=\"_self\"><span class=\"typography_heading-xs__osRhC typography_appearance-default__t8iAq\" data-consumer-name-typography=\"true\">J Q</span><div class=\"styles_consumerExtraDetails__TylYM\" data-consumer-reviews-count=\"1\"><div class=\"typography_body-m__k2UI7 typography_appearance-subtle__PYOVM\"><time class=\"\" data-service-review-date-time-ago=\"true\" datetime=\"2025-03-20T18:32:53.000Z\">A day ago</time></div></div></a></div></aside><div class=\"styles_starRating__9xFHb\"><div class=\"star-rating_starRating__sdbkn star-rating_small__QylNX\"><img alt=\"Rated 1 out of 5 stars\" src=\"https://cdn.trustpilot.net/brand-assets/4.1.0/stars/stars-1.svg\"/></div></div><p class=\"typography_body-l__v5JLj typography_appearance-default__t8iAq\" data-relevant-review-text-typography=\"true\"><span class=\"styles_previewText__afbaG\">Lawrence Hill store - long wait at both manned and self service checkouts, due to withdrawal of small baskets and customers using self service checkouts for large amounts of shopping.   Also, staff ha</span><span class=\"styles_truncatedText__SYw6V\">d great difficulty sorting out the price of an item at the checkout (seemed to be a fault on the computer system).   Poor approach from store manager - very defensive and no apologies to customers for the excessive delay and inconvenience. </span><button class=\"styles_readMore__Bevrq styles_seeMore__PqsxA button_button__EM6gX button_appearance-link__kao21\" data-read-more-button=\"true\" name=\"read-more\" type=\"button\"><span class=\"typography_body-l__v5JLj typography_appearance-inherit__YnCNb link_link__jBdLV link_notUnderlined__y4Qsc\">See more</span></button></p></article>,\n",
       " <article class=\"styles_reviewCard__wHynN\" data-service-review-card-paper=\"true\"><aside aria-label=\"Info for Elizabeth Beirne\" class=\"styles_consumerInfoWrapper__uQZDN\"><div class=\"styles_consumerDetailsWrapper__LSBJS\"><div class=\"avatar_avatar__QtS0N avatar_orange__cIcPd\" data-consumer-avatar=\"true\" style=\"width:44px;min-width:44px;height:44px;min-height:44px\"><span class=\"typography_heading-xs__osRhC typography_appearance-default__t8iAq typography_disableResponsiveSizing__z3EGy avatar_avatarName__2WZwR\">EB</span></div><a class=\"link_internal__Eam_b link_wrapper__ahpyq styles_consumerDetails__qg84T\" data-consumer-profile-link=\"true\" href=\"/users/6060a5c62d361e0019c6ec81\" name=\"consumer-profile\" rel=\"nofollow\" target=\"_self\"><span class=\"typography_heading-xs__osRhC typography_appearance-default__t8iAq\" data-consumer-name-typography=\"true\">Elizabeth Beirne</span><div class=\"styles_consumerExtraDetails__TylYM\" data-consumer-reviews-count=\"2\"><div class=\"typography_body-m__k2UI7 typography_appearance-subtle__PYOVM\"><time class=\"\" data-service-review-date-time-ago=\"true\" datetime=\"2025-03-20T16:47:14.000Z\">A day ago</time></div></div></a></div></aside><div class=\"styles_starRating__9xFHb\"><div class=\"star-rating_starRating__sdbkn star-rating_small__QylNX\"><img alt=\"Rated 1 out of 5 stars\" src=\"https://cdn.trustpilot.net/brand-assets/4.1.0/stars/stars-1.svg\"/></div></div><p class=\"typography_body-l__v5JLj typography_appearance-default__t8iAq\" data-relevant-review-text-typography=\"true\"><span class=\"styles_previewText__afbaG\">huge clump of hair in cretan pies frozen from the greek range, tried to call but can only do on whatsapp, they will not take a call and when i messaged someone, they said they could not call me back. </span><span class=\"styles_truncatedText__SYw6V\"> Customer service is non existent, not interested...they do not want to listen to their customers then....appalling, would give zero stars if i could </span><button class=\"styles_readMore__Bevrq styles_seeMore__PqsxA button_button__EM6gX button_appearance-link__kao21\" data-read-more-button=\"true\" name=\"read-more\" type=\"button\"><span class=\"typography_body-l__v5JLj typography_appearance-inherit__YnCNb link_link__jBdLV link_notUnderlined__y4Qsc\">See more</span></button></p></article>,\n",
       " <article class=\"styles_reviewCard__wHynN\" data-service-review-card-paper=\"true\"><aside aria-label=\"Info for Mohammed\" class=\"styles_consumerInfoWrapper__uQZDN\"><div class=\"styles_consumerDetailsWrapper__LSBJS\"><div class=\"avatar_imageWrapper__9hWrp\" style=\"width:44px;height:44px;min-width:44px;min-height:44px\"><img alt=\"\" data-consumer-avatar-image=\"true\" data-nimg=\"1\" decoding=\"async\" height=\"44\" loading=\"lazy\" src=\"https://user-images.trustpilot.com/67dc6d77aa1298a589e984c8/73x73.png\" style=\"color:transparent\" width=\"44\"/></div><a class=\"link_internal__Eam_b link_wrapper__ahpyq styles_consumerDetails__qg84T\" data-consumer-profile-link=\"true\" href=\"/users/67dc6d77aa1298a589e984c8\" name=\"consumer-profile\" rel=\"nofollow\" target=\"_self\"><span class=\"typography_heading-xs__osRhC typography_appearance-default__t8iAq\" data-consumer-name-typography=\"true\">Mohammed</span><div class=\"styles_consumerExtraDetails__TylYM\" data-consumer-reviews-count=\"1\"><div class=\"typography_body-m__k2UI7 typography_appearance-subtle__PYOVM\"><time class=\"\" data-service-review-date-time-ago=\"true\" datetime=\"2025-03-20T21:33:32.000Z\">20 hours ago</time></div></div></a></div></aside><div class=\"styles_starRating__9xFHb\"><div class=\"star-rating_starRating__sdbkn star-rating_small__QylNX\"><img alt=\"Rated 1 out of 5 stars\" src=\"https://cdn.trustpilot.net/brand-assets/4.1.0/stars/stars-1.svg\"/></div></div><p class=\"typography_body-l__v5JLj typography_appearance-default__t8iAq\" data-relevant-review-text-typography=\"true\"><span class=\"styles_previewText__afbaG\">Falsely accused of shopping. Aggressively stopped by security. <br/>Aggressive blaming accusing extremely arrogant managers with no customer service skill. <br/>Experts in confrontation. <br/>After checking </span><span class=\"styles_truncatedText__SYw6V\">my bags woefully non existent apology in an aggressive manner. <br/>Falsely teamed up and accused me an old man of coming up to. <br/>Never seen more arrogant managers in my life. </span><button class=\"styles_readMore__Bevrq styles_seeMore__PqsxA button_button__EM6gX button_appearance-link__kao21\" data-read-more-button=\"true\" name=\"read-more\" type=\"button\"><span class=\"typography_body-l__v5JLj typography_appearance-inherit__YnCNb link_link__jBdLV link_notUnderlined__y4Qsc\">See more</span></button></p></article>,\n",
       " <article class=\"styles_reviewCard__wHynN\" data-service-review-card-paper=\"true\"><aside aria-label=\"Info for Magda Fellino\" class=\"styles_consumerInfoWrapper__uQZDN\"><div class=\"styles_consumerDetailsWrapper__LSBJS\"><div class=\"avatar_avatar__QtS0N avatar_orange__cIcPd\" data-consumer-avatar=\"true\" style=\"width:44px;min-width:44px;height:44px;min-height:44px\"><span class=\"typography_heading-xs__osRhC typography_appearance-default__t8iAq typography_disableResponsiveSizing__z3EGy avatar_avatarName__2WZwR\">MF</span></div><a class=\"link_internal__Eam_b link_wrapper__ahpyq styles_consumerDetails__qg84T\" data-consumer-profile-link=\"true\" href=\"/users/60f05b1ab6ba310012187981\" name=\"consumer-profile\" rel=\"nofollow\" target=\"_self\"><span class=\"typography_heading-xs__osRhC typography_appearance-default__t8iAq\" data-consumer-name-typography=\"true\">Magda Fellino</span><div class=\"styles_consumerExtraDetails__TylYM\" data-consumer-reviews-count=\"6\"><div class=\"typography_body-m__k2UI7 typography_appearance-subtle__PYOVM\"><time class=\"\" data-service-review-date-time-ago=\"true\" datetime=\"2025-03-20T14:26:39.000Z\">A day ago</time></div></div></a></div></aside><div class=\"styles_starRating__9xFHb\"><div class=\"star-rating_starRating__sdbkn star-rating_small__QylNX\"><img alt=\"Rated 5 out of 5 stars\" src=\"https://cdn.trustpilot.net/brand-assets/4.1.0/stars/stars-5.svg\"/></div></div><p class=\"typography_body-l__v5JLj typography_appearance-default__t8iAq\" data-relevant-review-text-typography=\"true\"><span class=\"styles_previewText__afbaG\">This store is great in most respects, very friendly and helpful staff (apart from one member)!<br/><br/>Doesn't always have some of the weekly Lidl booklet offers but that's of no consequence.<br/><br/>Many </span><span class=\"styles_truncatedText__SYw6V\">of my friends are housebound and would willingly use a Lidl home delivery if it was available. <br/><br/>I'm aware that this could not be done from every store, but your larger stores would be great bases for this option.<br/><br/>Is this a possibility in future?<br/></span><button class=\"styles_readMore__Bevrq styles_seeMore__PqsxA button_button__EM6gX button_appearance-link__kao21\" data-read-more-button=\"true\" name=\"read-more\" type=\"button\"><span class=\"typography_body-l__v5JLj typography_appearance-inherit__YnCNb link_link__jBdLV link_notUnderlined__y4Qsc\">See more</span></button></p></article>,\n",
       " <article class=\"paper_paper__EGeEb paper_square__owXbO card_card__yyGgu card_noPadding__OOiac card_square___AZeg styles_reviewCard__rvE5E\" data-service-review-card-paper=\"true\"><div><div class=\"styles_reviewCardInnerHeader__dKkyc\"><aside aria-label=\"Info for Stephen\" class=\"styles_consumerInfoWrapper__uQZDN\"><div class=\"styles_consumerDetailsWrapper__LSBJS\"><div class=\"avatar_avatar__QtS0N avatar_pink__662MO\" data-consumer-avatar=\"true\" style=\"width:44px;min-width:44px;height:44px;min-height:44px\"><span class=\"typography_heading-xs__osRhC typography_appearance-default__t8iAq typography_disableResponsiveSizing__z3EGy avatar_avatarName__2WZwR\">ST</span></div><a class=\"link_internal__Eam_b link_wrapper__ahpyq styles_consumerDetails__qg84T\" data-consumer-profile-link=\"true\" href=\"/users/60b6233313edd1001907f0ae\" name=\"consumer-profile\" rel=\"nofollow\" target=\"_self\"><span class=\"typography_heading-xs__osRhC typography_appearance-default__t8iAq\" data-consumer-name-typography=\"true\">Stephen</span><div class=\"styles_consumerExtraDetails__TylYM\" data-consumer-reviews-count=\"12\"><span class=\"typography_body-m__k2UI7 typography_appearance-subtle__PYOVM\" data-consumer-country-typography=\"true\">GB</span><span class=\"typography_body-xs__IKE8N typography_appearance-subtle__PYOVM\" data-lil-dot-typography=\"true\">•</span><span class=\"typography_body-m__k2UI7 typography_appearance-subtle__PYOVM\" data-consumer-reviews-count-typography=\"true\">12<!-- --> reviews</span></div></a></div></aside><div class=\"typography_body-m__k2UI7 typography_appearance-subtle__PYOVM\"><time class=\"\" data-service-review-date-time-ago=\"true\" datetime=\"2025-03-21T12:15:20.000Z\">6 hours ago</time></div></div><section aria-disabled=\"false\" class=\"styles_reviewContentwrapper__Tzamw\"><div class=\"styles_reviewHeader__PuHBd\" data-service-review-rating=\"1\"><div class=\"star-rating_starRating__sdbkn star-rating_medium__Oj7C9\"><img alt=\"Rated 1 out of 5 stars\" src=\"https://cdn.trustpilot.net/brand-assets/4.1.0/stars/stars-1.svg\"/></div></div><div aria-hidden=\"false\" class=\"styles_reviewContent__SCYfD\" data-review-content=\"true\"><a class=\"link_internal__Eam_b typography_appearance-inherit__YnCNb link_link__jBdLV link_notUnderlined__y4Qsc\" data-review-title-typography=\"true\" href=\"/reviews/67dd3c3819e51f9a5a5778c7\" rel=\"nofollow\" target=\"_self\"><h2 class=\"typography_heading-xs__osRhC typography_appearance-default__t8iAq\" data-service-review-title-typography=\"true\">Con artists</h2></a><p class=\"typography_body-l__v5JLj typography_appearance-default__t8iAq\" data-service-review-text-typography=\"true\">Con artists, offer you a free item etc, but if you buy more than one eligible they take the cheapest item off...joke</p><p class=\"typography_body-m__k2UI7 typography_appearance-default__t8iAq\" data-service-review-date-of-experience-typography=\"true\"><b class=\"typography_body-m__k2UI7 typography_appearance-default__t8iAq typography_weight-heavy__rS52U\" weight=\"heavy\">Date of experience<!-- -->:</b> <span class=\"typography_body-m__k2UI7 typography_appearance-subtle__PYOVM\">21 March 2025</span></p></div></section></div></article>,\n",
       " <article class=\"paper_paper__EGeEb paper_square__owXbO card_card__yyGgu card_noPadding__OOiac card_square___AZeg styles_reviewCard__rvE5E\" data-service-review-card-paper=\"true\"><div><div class=\"styles_reviewCardInnerHeader__dKkyc\"><aside aria-label=\"Info for Adam Cadman\" class=\"styles_consumerInfoWrapper__uQZDN\"><div class=\"styles_consumerDetailsWrapper__LSBJS\"><div class=\"avatar_imageWrapper__9hWrp\" style=\"width:44px;height:44px;min-width:44px;min-height:44px\"><img alt=\"\" data-consumer-avatar-image=\"true\" data-nimg=\"1\" decoding=\"async\" height=\"44\" loading=\"lazy\" src=\"https://user-images.trustpilot.com/51da6c92000064000142e90a/73x73.png\" style=\"color:transparent\" width=\"44\"/></div><a class=\"link_internal__Eam_b link_wrapper__ahpyq styles_consumerDetails__qg84T\" data-consumer-profile-link=\"true\" href=\"/users/51da6c92000064000142e90a\" name=\"consumer-profile\" rel=\"nofollow\" target=\"_self\"><span class=\"typography_heading-xs__osRhC typography_appearance-default__t8iAq\" data-consumer-name-typography=\"true\">Adam Cadman</span><div class=\"styles_consumerExtraDetails__TylYM\" data-consumer-reviews-count=\"13\"><span class=\"typography_body-m__k2UI7 typography_appearance-subtle__PYOVM\" data-consumer-country-typography=\"true\">GB</span><span class=\"typography_body-xs__IKE8N typography_appearance-subtle__PYOVM\" data-lil-dot-typography=\"true\">•</span><span class=\"typography_body-m__k2UI7 typography_appearance-subtle__PYOVM\" data-consumer-reviews-count-typography=\"true\">13<!-- --> reviews</span></div></a></div></aside><div class=\"typography_body-m__k2UI7 typography_appearance-subtle__PYOVM\"><time class=\"\" data-service-review-date-time-ago=\"true\" datetime=\"2025-03-21T03:03:27.000Z\">15 hours ago</time></div></div><section aria-disabled=\"false\" class=\"styles_reviewContentwrapper__Tzamw\"><div class=\"styles_reviewHeader__PuHBd\" data-service-review-rating=\"5\"><div class=\"star-rating_starRating__sdbkn star-rating_medium__Oj7C9\"><img alt=\"Rated 5 out of 5 stars\" src=\"https://cdn.trustpilot.net/brand-assets/4.1.0/stars/stars-5.svg\"/></div></div><div aria-hidden=\"false\" class=\"styles_reviewContent__SCYfD\" data-review-content=\"true\"><a class=\"link_internal__Eam_b typography_appearance-inherit__YnCNb link_link__jBdLV link_notUnderlined__y4Qsc\" data-review-title-typography=\"true\" href=\"/reviews/67dcbadf04c2c977a90c2b6c\" rel=\"nofollow\" target=\"_self\"><h2 class=\"typography_heading-xs__osRhC typography_appearance-default__t8iAq\" data-service-review-title-typography=\"true\">Lidl - my most useful supermarket! </h2></a><p class=\"typography_body-l__v5JLj typography_appearance-default__t8iAq\" data-service-review-text-typography=\"true\">I use my local Lidl (Binley Road, Coventry) for most of my shopping as it's within walking distance.<br/><br/>The staff are friendly, and many recognise me and say Hi.<br/>The store, right at the end of the day can be a bit grubby but which supermarkets aren't? The rest of the time it's clean and (mostly!) well stocked.<br/>Anything they can improve?<br/>The offers on the app are too short lived - 7 days to accept an offer then 7 days to use it. <br/>By contrast, I recently went to Tesco (first time in months) and there were tokens waiting to be cashed on their card <br/>I appreciate that indefinite tokens aren't feasible, but 7 days is too short. Even just 14 days would be a huge improvement! </p><p class=\"typography_body-m__k2UI7 typography_appearance-default__t8iAq\" data-service-review-date-of-experience-typography=\"true\"><b class=\"typography_body-m__k2UI7 typography_appearance-default__t8iAq typography_weight-heavy__rS52U\" weight=\"heavy\">Date of experience<!-- -->:</b> <span class=\"typography_body-m__k2UI7 typography_appearance-subtle__PYOVM\">21 March 2025</span></p></div></section></div></article>,\n",
       " <article class=\"paper_paper__EGeEb paper_square__owXbO card_card__yyGgu card_noPadding__OOiac card_square___AZeg styles_reviewCard__rvE5E\" data-service-review-card-paper=\"true\"><div><div class=\"styles_reviewCardInnerHeader__dKkyc\"><aside aria-label=\"Info for Christine Espley\" class=\"styles_consumerInfoWrapper__uQZDN\"><div class=\"styles_consumerDetailsWrapper__LSBJS\"><div class=\"avatar_imageWrapper__9hWrp\" style=\"width:44px;height:44px;min-width:44px;min-height:44px\"><img alt=\"\" data-consumer-avatar-image=\"true\" data-nimg=\"1\" decoding=\"async\" height=\"44\" loading=\"lazy\" src=\"https://user-images.trustpilot.com/54d232850000ff0001a8bb8f/73x73.png\" style=\"color:transparent\" width=\"44\"/></div><a class=\"link_internal__Eam_b link_wrapper__ahpyq styles_consumerDetails__qg84T\" data-consumer-profile-link=\"true\" href=\"/users/54d232850000ff0001a8bb8f\" name=\"consumer-profile\" rel=\"nofollow\" target=\"_self\"><span class=\"typography_heading-xs__osRhC typography_appearance-default__t8iAq\" data-consumer-name-typography=\"true\">Christine Espley</span><div class=\"styles_consumerExtraDetails__TylYM\" data-consumer-reviews-count=\"43\"><span class=\"typography_body-m__k2UI7 typography_appearance-subtle__PYOVM\" data-consumer-country-typography=\"true\">GB</span><span class=\"typography_body-xs__IKE8N typography_appearance-subtle__PYOVM\" data-lil-dot-typography=\"true\">•</span><span class=\"typography_body-m__k2UI7 typography_appearance-subtle__PYOVM\" data-consumer-reviews-count-typography=\"true\">43<!-- --> reviews</span></div></a></div></aside><div class=\"typography_body-m__k2UI7 typography_appearance-subtle__PYOVM\"><time class=\"\" data-service-review-date-time-ago=\"true\" datetime=\"2025-03-20T23:23:08.000Z\">19 hours ago</time></div></div><section aria-disabled=\"false\" class=\"styles_reviewContentwrapper__Tzamw\"><div class=\"styles_reviewHeader__PuHBd\" data-service-review-rating=\"1\"><div class=\"star-rating_starRating__sdbkn star-rating_medium__Oj7C9\"><img alt=\"Rated 1 out of 5 stars\" src=\"https://cdn.trustpilot.net/brand-assets/4.1.0/stars/stars-1.svg\"/></div></div><div aria-hidden=\"false\" class=\"styles_reviewContent__SCYfD\" data-review-content=\"true\"><a class=\"link_internal__Eam_b typography_appearance-inherit__YnCNb link_link__jBdLV link_notUnderlined__y4Qsc\" data-review-title-typography=\"true\" href=\"/reviews/67dc873c822e8aa3639a9424\" rel=\"nofollow\" target=\"_self\"><h2 class=\"typography_heading-xs__osRhC typography_appearance-default__t8iAq\" data-service-review-title-typography=\"true\">Nordic “promotion” my aunt sally. </h2></a><p class=\"typography_body-l__v5JLj typography_appearance-default__t8iAq\" data-service-review-text-typography=\"true\">Went to Lidl in Cirencester, Woodley and Reading for the Nordic promotion. No meatballs, no Falukorv sausage. What a joke this company is. Will I get a reply, “Sorry to hear this!”  <br/>Useless shop. </p><p class=\"typography_body-m__k2UI7 typography_appearance-default__t8iAq\" data-service-review-date-of-experience-typography=\"true\"><b class=\"typography_body-m__k2UI7 typography_appearance-default__t8iAq typography_weight-heavy__rS52U\" weight=\"heavy\">Date of experience<!-- -->:</b> <span class=\"typography_body-m__k2UI7 typography_appearance-subtle__PYOVM\">15 March 2025</span></p></div></section></div></article>,\n",
       " <article class=\"paper_paper__EGeEb paper_square__owXbO card_card__yyGgu card_noPadding__OOiac card_square___AZeg styles_reviewCard__rvE5E\" data-service-review-card-paper=\"true\"><div><div class=\"styles_reviewCardInnerHeader__dKkyc\"><aside aria-label=\"Info for Mohammed\" class=\"styles_consumerInfoWrapper__uQZDN\"><div class=\"styles_consumerDetailsWrapper__LSBJS\"><div class=\"avatar_imageWrapper__9hWrp\" style=\"width:44px;height:44px;min-width:44px;min-height:44px\"><img alt=\"\" data-consumer-avatar-image=\"true\" data-nimg=\"1\" decoding=\"async\" height=\"44\" loading=\"lazy\" src=\"https://user-images.trustpilot.com/67dc6d77aa1298a589e984c8/73x73.png\" style=\"color:transparent\" width=\"44\"/></div><a class=\"link_internal__Eam_b link_wrapper__ahpyq styles_consumerDetails__qg84T\" data-consumer-profile-link=\"true\" href=\"/users/67dc6d77aa1298a589e984c8\" name=\"consumer-profile\" rel=\"nofollow\" target=\"_self\"><span class=\"typography_heading-xs__osRhC typography_appearance-default__t8iAq\" data-consumer-name-typography=\"true\">Mohammed</span><div class=\"styles_consumerExtraDetails__TylYM\" data-consumer-reviews-count=\"1\"><span class=\"typography_body-m__k2UI7 typography_appearance-subtle__PYOVM\" data-consumer-country-typography=\"true\">GB</span><span class=\"typography_body-xs__IKE8N typography_appearance-subtle__PYOVM\" data-lil-dot-typography=\"true\">•</span><span class=\"typography_body-m__k2UI7 typography_appearance-subtle__PYOVM\" data-consumer-reviews-count-typography=\"true\">1<!-- --> review</span></div></a></div></aside><div class=\"typography_body-m__k2UI7 typography_appearance-subtle__PYOVM\"><time class=\"\" data-service-review-date-time-ago=\"true\" datetime=\"2025-03-20T21:33:32.000Z\">20 hours ago</time></div></div><section aria-disabled=\"false\" class=\"styles_reviewContentwrapper__Tzamw\"><div class=\"styles_reviewHeader__PuHBd\" data-service-review-rating=\"1\"><div class=\"star-rating_starRating__sdbkn star-rating_medium__Oj7C9\"><img alt=\"Rated 1 out of 5 stars\" src=\"https://cdn.trustpilot.net/brand-assets/4.1.0/stars/stars-1.svg\"/></div></div><div aria-hidden=\"false\" class=\"styles_reviewContent__SCYfD\" data-review-content=\"true\"><a class=\"link_internal__Eam_b typography_appearance-inherit__YnCNb link_link__jBdLV link_notUnderlined__y4Qsc\" data-review-title-typography=\"true\" href=\"/reviews/67dc6d8cc2e7a2ed17173df2\" rel=\"nofollow\" target=\"_self\"><h2 class=\"typography_heading-xs__osRhC typography_appearance-default__t8iAq\" data-service-review-title-typography=\"true\">Arrogant aggressive accusing blaming dishonest managers</h2></a><p class=\"typography_body-l__v5JLj typography_appearance-default__t8iAq\" data-service-review-text-typography=\"true\">Falsely accused of shopping. Aggressively stopped by security. <br/>Aggressive blaming accusing extremely arrogant managers with no customer service skill. <br/>Experts in confrontation. <br/>After checking my bags woefully non existent apology in an aggressive manner. <br/>Falsely teamed up and accused me an old man of coming up to. <br/>Never seen more arrogant managers in my life. </p><p class=\"typography_body-m__k2UI7 typography_appearance-default__t8iAq\" data-service-review-date-of-experience-typography=\"true\"><b class=\"typography_body-m__k2UI7 typography_appearance-default__t8iAq typography_weight-heavy__rS52U\" weight=\"heavy\">Date of experience<!-- -->:</b> <span class=\"typography_body-m__k2UI7 typography_appearance-subtle__PYOVM\">04 February 2025</span></p></div></section><div class=\"paper_paper__EGeEb card_card__yyGgu card_noPadding__OOiac styles_wrapper___Td1L\"><div><svg fill=\"none\" height=\"38\" viewbox=\"0 0 14 38\" width=\"14\" xmlns=\"http://www.w3.org/2000/svg\"><path d=\"M1 1V25C1 31.6274 6.37258 37 13 37V37\" stroke=\"#E5E5DD\" stroke-linecap=\"round\" stroke-width=\"2\"></path></svg></div><div class=\"styles_content__BImMg\"><div class=\"styles_replyHeader__aEZg_\"><picture class=\"business-profile-image_containmentWrapper__xJZjr styles_businessLogo__ec7Rh\"><source srcset=\"https://consumersiteimages.trustpilot.net/business-units/4bdc15ee0000640005058609-198x149-1x.avif, https://consumersiteimages.trustpilot.net/business-units/4bdc15ee0000640005058609-198x149-2x.avif 2x\" type=\"image/avif\"/><source srcset=\"https://consumersiteimages.trustpilot.net/business-units/4bdc15ee0000640005058609-198x149-1x.jpg, https://consumersiteimages.trustpilot.net/business-units/4bdc15ee0000640005058609-198x149-2x.jpg 2x\" type=\"image/jpeg\"/><img alt=\"Lidl GB logo\" class=\"business-profile-image_image__V14jr\" decoding=\"async\" loading=\"lazy\" src=\"https://consumersiteimages.trustpilot.net/business-units/4bdc15ee0000640005058609-198x149-1x.jpg\"/></picture><div class=\"styles_replyInfo__VwTUN\"><p class=\"typography_body-m__k2UI7 typography_appearance-default__t8iAq typography_weight-heavy__rS52U styles_replyCompany__YykfC\" data-service-review-business-reply-title-typography=\"true\" weight=\"heavy\">Reply from Lidl GB</p><time class=\"typography_body-s__IqDta typography_appearance-default__t8iAq\" data-service-review-business-reply-date-time-ago=\"true\" datetime=\"2025-03-21T12:16:48.000Z\">6 hours ago</time></div></div><p class=\"typography_body-m__k2UI7 typography_appearance-default__t8iAq styles_message__l9HgT\" data-service-review-business-reply-text-typography=\"true\">We're concerned to hear this. Please email customerservice.reviews@lidl.co.uk with more information and we'll be more than happy to look into this for you. - Lauren</p></div></div></div></article>,\n",
       " <article class=\"paper_paper__EGeEb paper_square__owXbO card_card__yyGgu card_noPadding__OOiac card_square___AZeg styles_reviewCard__rvE5E\" data-service-review-card-paper=\"true\"><div><div class=\"styles_reviewCardInnerHeader__dKkyc\"><aside aria-label=\"Info for J Q\" class=\"styles_consumerInfoWrapper__uQZDN\"><div class=\"styles_consumerDetailsWrapper__LSBJS\"><div class=\"avatar_imageWrapper__9hWrp\" style=\"width:44px;height:44px;min-width:44px;min-height:44px\"><img alt=\"\" data-consumer-avatar-image=\"true\" data-nimg=\"1\" decoding=\"async\" height=\"44\" loading=\"lazy\" src=\"https://user-images.trustpilot.com/67dc432e20cf684fc766a783/73x73.png\" style=\"color:transparent\" width=\"44\"/></div><a class=\"link_internal__Eam_b link_wrapper__ahpyq styles_consumerDetails__qg84T\" data-consumer-profile-link=\"true\" href=\"/users/67dc432e20cf684fc766a783\" name=\"consumer-profile\" rel=\"nofollow\" target=\"_self\"><span class=\"typography_heading-xs__osRhC typography_appearance-default__t8iAq\" data-consumer-name-typography=\"true\">J Q</span><div class=\"styles_consumerExtraDetails__TylYM\" data-consumer-reviews-count=\"1\"><span class=\"typography_body-m__k2UI7 typography_appearance-subtle__PYOVM\" data-consumer-country-typography=\"true\">GB</span><span class=\"typography_body-xs__IKE8N typography_appearance-subtle__PYOVM\" data-lil-dot-typography=\"true\">•</span><span class=\"typography_body-m__k2UI7 typography_appearance-subtle__PYOVM\" data-consumer-reviews-count-typography=\"true\">1<!-- --> review</span></div></a></div></aside><div class=\"typography_body-m__k2UI7 typography_appearance-subtle__PYOVM\"><time class=\"\" data-service-review-date-time-ago=\"true\" datetime=\"2025-03-20T18:32:53.000Z\">A day ago</time></div></div><section aria-disabled=\"false\" class=\"styles_reviewContentwrapper__Tzamw\"><div class=\"styles_reviewHeader__PuHBd\" data-service-review-rating=\"1\"><div class=\"star-rating_starRating__sdbkn star-rating_medium__Oj7C9\"><img alt=\"Rated 1 out of 5 stars\" src=\"https://cdn.trustpilot.net/brand-assets/4.1.0/stars/stars-1.svg\"/></div></div><div aria-hidden=\"false\" class=\"styles_reviewContent__SCYfD\" data-review-content=\"true\"><a class=\"link_internal__Eam_b typography_appearance-inherit__YnCNb link_link__jBdLV link_notUnderlined__y4Qsc\" data-review-title-typography=\"true\" href=\"/reviews/67dc4335497d3f88fb5d753a\" rel=\"nofollow\" target=\"_self\"><h2 class=\"typography_heading-xs__osRhC typography_appearance-default__t8iAq\" data-service-review-title-typography=\"true\">Lawrence Hill store</h2></a><p class=\"typography_body-l__v5JLj typography_appearance-default__t8iAq\" data-service-review-text-typography=\"true\">Lawrence Hill store - long wait at both manned and self service checkouts, due to withdrawal of small baskets and customers using self service checkouts for large amounts of shopping.   Also, staff had great difficulty sorting out the price of an item at the checkout (seemed to be a fault on the computer system).   Poor approach from store manager - very defensive and no apologies to customers for the excessive delay and inconvenience. </p><p class=\"typography_body-m__k2UI7 typography_appearance-default__t8iAq\" data-service-review-date-of-experience-typography=\"true\"><b class=\"typography_body-m__k2UI7 typography_appearance-default__t8iAq typography_weight-heavy__rS52U\" weight=\"heavy\">Date of experience<!-- -->:</b> <span class=\"typography_body-m__k2UI7 typography_appearance-subtle__PYOVM\">20 March 2025</span></p></div></section></div></article>,\n",
       " <article class=\"paper_paper__EGeEb paper_square__owXbO card_card__yyGgu card_noPadding__OOiac card_square___AZeg styles_reviewCard__rvE5E\" data-service-review-card-paper=\"true\"><div><div class=\"styles_reviewCardInnerHeader__dKkyc\"><aside aria-label=\"Info for Elizabeth Beirne\" class=\"styles_consumerInfoWrapper__uQZDN\"><div class=\"styles_consumerDetailsWrapper__LSBJS\"><div class=\"avatar_avatar__QtS0N avatar_orange__cIcPd\" data-consumer-avatar=\"true\" style=\"width:44px;min-width:44px;height:44px;min-height:44px\"><span class=\"typography_heading-xs__osRhC typography_appearance-default__t8iAq typography_disableResponsiveSizing__z3EGy avatar_avatarName__2WZwR\">EB</span></div><a class=\"link_internal__Eam_b link_wrapper__ahpyq styles_consumerDetails__qg84T\" data-consumer-profile-link=\"true\" href=\"/users/6060a5c62d361e0019c6ec81\" name=\"consumer-profile\" rel=\"nofollow\" target=\"_self\"><span class=\"typography_heading-xs__osRhC typography_appearance-default__t8iAq\" data-consumer-name-typography=\"true\">Elizabeth Beirne</span><div class=\"styles_consumerExtraDetails__TylYM\" data-consumer-reviews-count=\"2\"><span class=\"typography_body-m__k2UI7 typography_appearance-subtle__PYOVM\" data-consumer-country-typography=\"true\">GB</span><span class=\"typography_body-xs__IKE8N typography_appearance-subtle__PYOVM\" data-lil-dot-typography=\"true\">•</span><span class=\"typography_body-m__k2UI7 typography_appearance-subtle__PYOVM\" data-consumer-reviews-count-typography=\"true\">2<!-- --> reviews</span></div></a></div></aside><div class=\"typography_body-m__k2UI7 typography_appearance-subtle__PYOVM\"><time class=\"\" data-service-review-date-time-ago=\"true\" datetime=\"2025-03-20T16:47:14.000Z\">A day ago</time></div></div><section aria-disabled=\"false\" class=\"styles_reviewContentwrapper__Tzamw\"><div class=\"styles_reviewHeader__PuHBd\" data-service-review-rating=\"1\"><div class=\"star-rating_starRating__sdbkn star-rating_medium__Oj7C9\"><img alt=\"Rated 1 out of 5 stars\" src=\"https://cdn.trustpilot.net/brand-assets/4.1.0/stars/stars-1.svg\"/></div></div><div aria-hidden=\"false\" class=\"styles_reviewContent__SCYfD\" data-review-content=\"true\"><a class=\"link_internal__Eam_b typography_appearance-inherit__YnCNb link_link__jBdLV link_notUnderlined__y4Qsc\" data-review-title-typography=\"true\" href=\"/reviews/67dc2a729c9ffc2fb4253ebf\" rel=\"nofollow\" target=\"_self\"><h2 class=\"typography_heading-xs__osRhC typography_appearance-default__t8iAq\" data-service-review-title-typography=\"true\">huge clump of hair in cretan pies…nice</h2></a><p class=\"typography_body-l__v5JLj typography_appearance-default__t8iAq\" data-service-review-text-typography=\"true\">huge clump of hair in cretan pies frozen from the greek range, tried to call but can only do on whatsapp, they will not take a call and when i messaged someone, they said they could not call me back.  Customer service is non existent, not interested...they do not want to listen to their customers then....appalling, would give zero stars if i could </p><p class=\"typography_body-m__k2UI7 typography_appearance-default__t8iAq\" data-service-review-date-of-experience-typography=\"true\"><b class=\"typography_body-m__k2UI7 typography_appearance-default__t8iAq typography_weight-heavy__rS52U\" weight=\"heavy\">Date of experience<!-- -->:</b> <span class=\"typography_body-m__k2UI7 typography_appearance-subtle__PYOVM\">19 March 2025</span></p></div></section></div></article>,\n",
       " <article class=\"paper_paper__EGeEb paper_square__owXbO card_card__yyGgu card_noPadding__OOiac card_square___AZeg styles_reviewCard__rvE5E\" data-service-review-card-paper=\"true\"><div><div class=\"styles_reviewCardInnerHeader__dKkyc\"><aside aria-label=\"Info for Magda Fellino\" class=\"styles_consumerInfoWrapper__uQZDN\"><div class=\"styles_consumerDetailsWrapper__LSBJS\"><div class=\"avatar_avatar__QtS0N avatar_orange__cIcPd\" data-consumer-avatar=\"true\" style=\"width:44px;min-width:44px;height:44px;min-height:44px\"><span class=\"typography_heading-xs__osRhC typography_appearance-default__t8iAq typography_disableResponsiveSizing__z3EGy avatar_avatarName__2WZwR\">MF</span></div><a class=\"link_internal__Eam_b link_wrapper__ahpyq styles_consumerDetails__qg84T\" data-consumer-profile-link=\"true\" href=\"/users/60f05b1ab6ba310012187981\" name=\"consumer-profile\" rel=\"nofollow\" target=\"_self\"><span class=\"typography_heading-xs__osRhC typography_appearance-default__t8iAq\" data-consumer-name-typography=\"true\">Magda Fellino</span><div class=\"styles_consumerExtraDetails__TylYM\" data-consumer-reviews-count=\"6\"><span class=\"typography_body-m__k2UI7 typography_appearance-subtle__PYOVM\" data-consumer-country-typography=\"true\">GB</span><span class=\"typography_body-xs__IKE8N typography_appearance-subtle__PYOVM\" data-lil-dot-typography=\"true\">•</span><span class=\"typography_body-m__k2UI7 typography_appearance-subtle__PYOVM\" data-consumer-reviews-count-typography=\"true\">6<!-- --> reviews</span></div></a></div></aside><div class=\"typography_body-m__k2UI7 typography_appearance-subtle__PYOVM\"><time class=\"\" data-service-review-date-time-ago=\"true\" datetime=\"2025-03-20T14:26:39.000Z\">A day ago</time></div></div><section aria-disabled=\"false\" class=\"styles_reviewContentwrapper__Tzamw\"><div class=\"styles_reviewHeader__PuHBd\" data-service-review-rating=\"5\"><div class=\"star-rating_starRating__sdbkn star-rating_medium__Oj7C9\"><img alt=\"Rated 5 out of 5 stars\" src=\"https://cdn.trustpilot.net/brand-assets/4.1.0/stars/stars-5.svg\"/></div></div><div aria-hidden=\"false\" class=\"styles_reviewContent__SCYfD\" data-review-content=\"true\"><a class=\"link_internal__Eam_b typography_appearance-inherit__YnCNb link_link__jBdLV link_notUnderlined__y4Qsc\" data-review-title-typography=\"true\" href=\"/reviews/67dc097fd4b00888bcf837eb\" rel=\"nofollow\" target=\"_self\"><h2 class=\"typography_heading-xs__osRhC typography_appearance-default__t8iAq\" data-service-review-title-typography=\"true\">This store is great in most respects</h2></a><p class=\"typography_body-l__v5JLj typography_appearance-default__t8iAq\" data-service-review-text-typography=\"true\">This store is great in most respects, very friendly and helpful staff (apart from one member)!<br/><br/>Doesn't always have some of the weekly Lidl booklet offers but that's of no consequence.<br/><br/>Many of my friends are housebound and would willingly use a Lidl home delivery if it was available. <br/><br/>I'm aware that this could not be done from every store, but your larger stores would be great bases for this option.<br/><br/>Is this a possibility in future?<br/></p><p class=\"typography_body-m__k2UI7 typography_appearance-default__t8iAq\" data-service-review-date-of-experience-typography=\"true\"><b class=\"typography_body-m__k2UI7 typography_appearance-default__t8iAq typography_weight-heavy__rS52U\" weight=\"heavy\">Date of experience<!-- -->:</b> <span class=\"typography_body-m__k2UI7 typography_appearance-subtle__PYOVM\">16 March 2025</span></p></div></section></div></article>,\n",
       " <article class=\"paper_paper__EGeEb paper_square__owXbO card_card__yyGgu card_noPadding__OOiac card_square___AZeg styles_reviewCard__rvE5E\" data-service-review-card-paper=\"true\"><div><div class=\"styles_reviewCardInnerHeader__dKkyc\"><aside aria-label=\"Info for Robert Forrest\" class=\"styles_consumerInfoWrapper__uQZDN\"><div class=\"styles_consumerDetailsWrapper__LSBJS\"><div class=\"avatar_avatar__QtS0N avatar_pink__662MO\" data-consumer-avatar=\"true\" style=\"width:44px;min-width:44px;height:44px;min-height:44px\"><span class=\"typography_heading-xs__osRhC typography_appearance-default__t8iAq typography_disableResponsiveSizing__z3EGy avatar_avatarName__2WZwR\">RF</span></div><a class=\"link_internal__Eam_b link_wrapper__ahpyq styles_consumerDetails__qg84T\" data-consumer-profile-link=\"true\" href=\"/users/5db56b5b7cbf6ea75e62199f\" name=\"consumer-profile\" rel=\"nofollow\" target=\"_self\"><span class=\"typography_heading-xs__osRhC typography_appearance-default__t8iAq\" data-consumer-name-typography=\"true\">Robert Forrest</span><div class=\"styles_consumerExtraDetails__TylYM\" data-consumer-reviews-count=\"7\"><span class=\"typography_body-m__k2UI7 typography_appearance-subtle__PYOVM\" data-consumer-country-typography=\"true\">GB</span><span class=\"typography_body-xs__IKE8N typography_appearance-subtle__PYOVM\" data-lil-dot-typography=\"true\">•</span><span class=\"typography_body-m__k2UI7 typography_appearance-subtle__PYOVM\" data-consumer-reviews-count-typography=\"true\">7<!-- --> reviews</span></div></a></div></aside><div class=\"typography_body-m__k2UI7 typography_appearance-subtle__PYOVM\"><time class=\"\" data-service-review-date-time-ago=\"true\" datetime=\"2025-03-20T01:34:58.000Z\">2 days ago</time></div></div><section aria-disabled=\"false\" class=\"styles_reviewContentwrapper__Tzamw\"><div class=\"styles_reviewHeader__PuHBd\" data-service-review-rating=\"1\"><div class=\"star-rating_starRating__sdbkn star-rating_medium__Oj7C9\"><img alt=\"Rated 1 out of 5 stars\" src=\"https://cdn.trustpilot.net/brand-assets/4.1.0/stars/stars-1.svg\"/></div></div><div aria-hidden=\"false\" class=\"styles_reviewContent__SCYfD\" data-review-content=\"true\"><a class=\"link_internal__Eam_b typography_appearance-inherit__YnCNb link_link__jBdLV link_notUnderlined__y4Qsc\" data-review-title-typography=\"true\" href=\"/reviews/67db54a2ef12f8bb85e73d2a\" rel=\"nofollow\" target=\"_self\"><h2 class=\"typography_heading-xs__osRhC typography_appearance-default__t8iAq\" data-service-review-title-typography=\"true\">Bad manager in store </h2></a><p class=\"typography_body-l__v5JLj typography_appearance-default__t8iAq\" data-service-review-text-typography=\"true\">I went in to LiDL store 1536 Skegness the manager was very rude to me and the customers he had no respect for other people he was in a mode and taking it out on others I will not be going to Lidl a gain if that's our the managers are trained the manager name was Jamie  number 86835 </p><p class=\"typography_body-m__k2UI7 typography_appearance-default__t8iAq\" data-service-review-date-of-experience-typography=\"true\"><b class=\"typography_body-m__k2UI7 typography_appearance-default__t8iAq typography_weight-heavy__rS52U\" weight=\"heavy\">Date of experience<!-- -->:</b> <span class=\"typography_body-m__k2UI7 typography_appearance-subtle__PYOVM\">19 March 2025</span></p></div></section><div class=\"paper_paper__EGeEb card_card__yyGgu card_noPadding__OOiac styles_wrapper___Td1L\"><div><svg fill=\"none\" height=\"38\" viewbox=\"0 0 14 38\" width=\"14\" xmlns=\"http://www.w3.org/2000/svg\"><path d=\"M1 1V25C1 31.6274 6.37258 37 13 37V37\" stroke=\"#E5E5DD\" stroke-linecap=\"round\" stroke-width=\"2\"></path></svg></div><div class=\"styles_content__BImMg\"><div class=\"styles_replyHeader__aEZg_\"><picture class=\"business-profile-image_containmentWrapper__xJZjr styles_businessLogo__ec7Rh\"><source srcset=\"https://consumersiteimages.trustpilot.net/business-units/4bdc15ee0000640005058609-198x149-1x.avif, https://consumersiteimages.trustpilot.net/business-units/4bdc15ee0000640005058609-198x149-2x.avif 2x\" type=\"image/avif\"/><source srcset=\"https://consumersiteimages.trustpilot.net/business-units/4bdc15ee0000640005058609-198x149-1x.jpg, https://consumersiteimages.trustpilot.net/business-units/4bdc15ee0000640005058609-198x149-2x.jpg 2x\" type=\"image/jpeg\"/><img alt=\"Lidl GB logo\" class=\"business-profile-image_image__V14jr\" decoding=\"async\" loading=\"lazy\" src=\"https://consumersiteimages.trustpilot.net/business-units/4bdc15ee0000640005058609-198x149-1x.jpg\"/></picture><div class=\"styles_replyInfo__VwTUN\"><p class=\"typography_body-m__k2UI7 typography_appearance-default__t8iAq typography_weight-heavy__rS52U styles_replyCompany__YykfC\" data-service-review-business-reply-title-typography=\"true\" weight=\"heavy\">Reply from Lidl GB</p><time class=\"typography_body-s__IqDta typography_appearance-default__t8iAq\" data-service-review-business-reply-date-time-ago=\"true\" datetime=\"2025-03-21T13:34:02.000Z\">4 hours ago</time></div></div><p class=\"typography_body-m__k2UI7 typography_appearance-default__t8iAq styles_message__l9HgT\" data-service-review-business-reply-text-typography=\"true\">Sorry to hear this, Robert. Please email customerservice.reviews@lidl.co.uk and we'll look into this for you. - Lauren</p></div></div></div></article>,\n",
       " <article class=\"paper_paper__EGeEb paper_square__owXbO card_card__yyGgu card_noPadding__OOiac card_square___AZeg styles_reviewCard__rvE5E\" data-service-review-card-paper=\"true\"><div><div class=\"styles_reviewCardInnerHeader__dKkyc\"><aside aria-label=\"Info for vicki Webber\" class=\"styles_consumerInfoWrapper__uQZDN\"><div class=\"styles_consumerDetailsWrapper__LSBJS\"><div class=\"avatar_imageWrapper__9hWrp\" style=\"width:44px;height:44px;min-width:44px;min-height:44px\"><img alt=\"\" data-consumer-avatar-image=\"true\" data-nimg=\"1\" decoding=\"async\" height=\"44\" loading=\"lazy\" src=\"https://user-images.trustpilot.com/649eca111d805f0012236992/73x73.png\" style=\"color:transparent\" width=\"44\"/></div><a class=\"link_internal__Eam_b link_wrapper__ahpyq styles_consumerDetails__qg84T\" data-consumer-profile-link=\"true\" href=\"/users/649eca111d805f0012236992\" name=\"consumer-profile\" rel=\"nofollow\" target=\"_self\"><span class=\"typography_heading-xs__osRhC typography_appearance-default__t8iAq\" data-consumer-name-typography=\"true\">vicki Webber</span><div class=\"styles_consumerExtraDetails__TylYM\" data-consumer-reviews-count=\"6\"><span class=\"typography_body-m__k2UI7 typography_appearance-subtle__PYOVM\" data-consumer-country-typography=\"true\">GB</span><span class=\"typography_body-xs__IKE8N typography_appearance-subtle__PYOVM\" data-lil-dot-typography=\"true\">•</span><span class=\"typography_body-m__k2UI7 typography_appearance-subtle__PYOVM\" data-consumer-reviews-count-typography=\"true\">6<!-- --> reviews</span></div></a></div></aside><div class=\"typography_body-m__k2UI7 typography_appearance-subtle__PYOVM\"><time class=\"\" data-service-review-date-time-ago=\"true\" datetime=\"2025-03-19T19:34:50.000Z\">2 days ago</time></div></div><section aria-disabled=\"false\" class=\"styles_reviewContentwrapper__Tzamw\"><div class=\"styles_reviewHeader__PuHBd\" data-service-review-rating=\"5\"><div class=\"star-rating_starRating__sdbkn star-rating_medium__Oj7C9\"><img alt=\"Rated 5 out of 5 stars\" src=\"https://cdn.trustpilot.net/brand-assets/4.1.0/stars/stars-5.svg\"/></div></div><div aria-hidden=\"false\" class=\"styles_reviewContent__SCYfD\" data-review-content=\"true\"><a class=\"link_internal__Eam_b typography_appearance-inherit__YnCNb link_link__jBdLV link_notUnderlined__y4Qsc\" data-review-title-typography=\"true\" href=\"/reviews/67db003a6d20fdcf84587711\" rel=\"nofollow\" target=\"_self\"><h2 class=\"typography_heading-xs__osRhC typography_appearance-default__t8iAq\" data-service-review-title-typography=\"true\">This is my local Lidl store </h2></a><p class=\"typography_body-l__v5JLj typography_appearance-default__t8iAq\" data-service-review-text-typography=\"true\">This is my local Lidl store and it always looks nice and clean.<br/>The staff are all very friendly and knowledgeable.<br/>Can be quite long queues but always go down pretty quickly.<br/>Can always find what I am looking for.</p><p class=\"typography_body-m__k2UI7 typography_appearance-default__t8iAq\" data-service-review-date-of-experience-typography=\"true\"><b class=\"typography_body-m__k2UI7 typography_appearance-default__t8iAq typography_weight-heavy__rS52U\" weight=\"heavy\">Date of experience<!-- -->:</b> <span class=\"typography_body-m__k2UI7 typography_appearance-subtle__PYOVM\">17 March 2025</span></p></div></section></div></article>,\n",
       " <article class=\"paper_paper__EGeEb paper_square__owXbO card_card__yyGgu card_noPadding__OOiac card_square___AZeg styles_reviewCard__rvE5E\" data-service-review-card-paper=\"true\"><div><div class=\"styles_reviewCardInnerHeader__dKkyc\"><aside aria-label=\"Info for Mark Bartlett\" class=\"styles_consumerInfoWrapper__uQZDN\"><div class=\"styles_consumerDetailsWrapper__LSBJS\"><div class=\"avatar_avatar__QtS0N avatar_pink__662MO\" data-consumer-avatar=\"true\" style=\"width:44px;min-width:44px;height:44px;min-height:44px\"><span class=\"typography_heading-xs__osRhC typography_appearance-default__t8iAq typography_disableResponsiveSizing__z3EGy avatar_avatarName__2WZwR\">MB</span></div><a class=\"link_internal__Eam_b link_wrapper__ahpyq styles_consumerDetails__qg84T\" data-consumer-profile-link=\"true\" href=\"/users/5842042b0000ff000a5d85fe\" name=\"consumer-profile\" rel=\"nofollow\" target=\"_self\"><span class=\"typography_heading-xs__osRhC typography_appearance-default__t8iAq\" data-consumer-name-typography=\"true\">Mark Bartlett</span><div class=\"styles_consumerExtraDetails__TylYM\" data-consumer-reviews-count=\"13\"><span class=\"typography_body-m__k2UI7 typography_appearance-subtle__PYOVM\" data-consumer-country-typography=\"true\">GB</span><span class=\"typography_body-xs__IKE8N typography_appearance-subtle__PYOVM\" data-lil-dot-typography=\"true\">•</span><span class=\"typography_body-m__k2UI7 typography_appearance-subtle__PYOVM\" data-consumer-reviews-count-typography=\"true\">13<!-- --> reviews</span></div></a></div></aside><div class=\"typography_body-m__k2UI7 typography_appearance-subtle__PYOVM\"><time class=\"\" data-service-review-date-time-ago=\"true\" datetime=\"2025-03-19T18:12:37.000Z\">2 days ago</time></div></div><section aria-disabled=\"false\" class=\"styles_reviewContentwrapper__Tzamw\"><div class=\"styles_reviewHeader__PuHBd\" data-service-review-rating=\"1\"><div class=\"star-rating_starRating__sdbkn star-rating_medium__Oj7C9\"><img alt=\"Rated 1 out of 5 stars\" src=\"https://cdn.trustpilot.net/brand-assets/4.1.0/stars/stars-1.svg\"/></div></div><div aria-hidden=\"false\" class=\"styles_reviewContent__SCYfD\" data-review-content=\"true\"><a class=\"link_internal__Eam_b typography_appearance-inherit__YnCNb link_link__jBdLV link_notUnderlined__y4Qsc\" data-review-title-typography=\"true\" href=\"/reviews/67daecf5f48130ffbacf22d6\" rel=\"nofollow\" target=\"_self\"><h2 class=\"typography_heading-xs__osRhC typography_appearance-default__t8iAq\" data-service-review-title-typography=\"true\">The Lidl plus app is the worst store…</h2></a><p class=\"typography_body-l__v5JLj typography_appearance-default__t8iAq\" data-service-review-text-typography=\"true\">The Lidl plus app is the worst store app I've ever had the displeasure of using. Nothing works as it should. Get it sorted lidl and hire some real app developers. </p><p class=\"typography_body-m__k2UI7 typography_appearance-default__t8iAq\" data-service-review-date-of-experience-typography=\"true\"><b class=\"typography_body-m__k2UI7 typography_appearance-default__t8iAq typography_weight-heavy__rS52U\" weight=\"heavy\">Date of experience<!-- -->:</b> <span class=\"typography_body-m__k2UI7 typography_appearance-subtle__PYOVM\">19 March 2025</span></p></div></section></div></article>,\n",
       " <article class=\"paper_paper__EGeEb paper_square__owXbO card_card__yyGgu card_noPadding__OOiac card_square___AZeg styles_reviewCard__rvE5E\" data-service-review-card-paper=\"true\"><div><div class=\"styles_reviewCardInnerHeader__dKkyc\"><aside aria-label=\"Info for Mick Ladak\" class=\"styles_consumerInfoWrapper__uQZDN\"><div class=\"styles_consumerDetailsWrapper__LSBJS\"><div class=\"avatar_imageWrapper__9hWrp\" style=\"width:44px;height:44px;min-width:44px;min-height:44px\"><img alt=\"\" data-consumer-avatar-image=\"true\" data-nimg=\"1\" decoding=\"async\" height=\"44\" loading=\"lazy\" src=\"https://user-images.trustpilot.com/67daae22aa12986368e73d35/73x73.png\" style=\"color:transparent\" width=\"44\"/></div><a class=\"link_internal__Eam_b link_wrapper__ahpyq styles_consumerDetails__qg84T\" data-consumer-profile-link=\"true\" href=\"/users/67daae22aa12986368e73d35\" name=\"consumer-profile\" rel=\"nofollow\" target=\"_self\"><span class=\"typography_heading-xs__osRhC typography_appearance-default__t8iAq\" data-consumer-name-typography=\"true\">Mick Ladak</span><div class=\"styles_consumerExtraDetails__TylYM\" data-consumer-reviews-count=\"1\"><span class=\"typography_body-m__k2UI7 typography_appearance-subtle__PYOVM\" data-consumer-country-typography=\"true\">GB</span><span class=\"typography_body-xs__IKE8N typography_appearance-subtle__PYOVM\" data-lil-dot-typography=\"true\">•</span><span class=\"typography_body-m__k2UI7 typography_appearance-subtle__PYOVM\" data-consumer-reviews-count-typography=\"true\">1<!-- --> review</span></div></a></div></aside><div class=\"typography_body-m__k2UI7 typography_appearance-subtle__PYOVM\"><time class=\"\" data-service-review-date-time-ago=\"true\" datetime=\"2025-03-19T13:44:47.000Z\">2 days ago</time></div></div><section aria-disabled=\"false\" class=\"styles_reviewContentwrapper__Tzamw\"><div class=\"styles_reviewHeader__PuHBd\" data-service-review-rating=\"1\"><div class=\"star-rating_starRating__sdbkn star-rating_medium__Oj7C9\"><img alt=\"Rated 1 out of 5 stars\" src=\"https://cdn.trustpilot.net/brand-assets/4.1.0/stars/stars-1.svg\"/></div></div><div aria-hidden=\"false\" class=\"styles_reviewContent__SCYfD\" data-review-content=\"true\"><a class=\"link_internal__Eam_b typography_appearance-inherit__YnCNb link_link__jBdLV link_notUnderlined__y4Qsc\" data-review-title-typography=\"true\" href=\"/reviews/67daae2f07ba2ef5ead77e3a\" rel=\"nofollow\" target=\"_self\"><h2 class=\"typography_heading-xs__osRhC typography_appearance-default__t8iAq\" data-service-review-title-typography=\"true\">Carrots </h2></a><p class=\"typography_body-l__v5JLj typography_appearance-default__t8iAq\" data-service-review-text-typography=\"true\">Generally like lidil however very disappointed with the fresh carrots. Bland and no taste </p><p class=\"typography_body-m__k2UI7 typography_appearance-default__t8iAq\" data-service-review-date-of-experience-typography=\"true\"><b class=\"typography_body-m__k2UI7 typography_appearance-default__t8iAq typography_weight-heavy__rS52U\" weight=\"heavy\">Date of experience<!-- -->:</b> <span class=\"typography_body-m__k2UI7 typography_appearance-subtle__PYOVM\">18 March 2025</span></p></div></section></div></article>,\n",
       " <article class=\"paper_paper__EGeEb paper_square__owXbO card_card__yyGgu card_noPadding__OOiac card_square___AZeg styles_reviewCard__rvE5E\" data-service-review-card-paper=\"true\"><div><div class=\"styles_reviewCardInnerHeader__dKkyc\"><aside aria-label=\"Info for Maggie OxonBird\" class=\"styles_consumerInfoWrapper__uQZDN\"><div class=\"styles_consumerDetailsWrapper__LSBJS\"><div class=\"avatar_imageWrapper__9hWrp\" style=\"width:44px;height:44px;min-width:44px;min-height:44px\"><img alt=\"\" data-consumer-avatar-image=\"true\" data-nimg=\"1\" decoding=\"async\" height=\"44\" loading=\"lazy\" src=\"https://user-images.trustpilot.com/67da8dfb7070b806ac18497d/73x73.png\" style=\"color:transparent\" width=\"44\"/></div><a class=\"link_internal__Eam_b link_wrapper__ahpyq styles_consumerDetails__qg84T\" data-consumer-profile-link=\"true\" href=\"/users/67da8dfb7070b806ac18497d\" name=\"consumer-profile\" rel=\"nofollow\" target=\"_self\"><span class=\"typography_heading-xs__osRhC typography_appearance-default__t8iAq\" data-consumer-name-typography=\"true\">Maggie OxonBird</span><div class=\"styles_consumerExtraDetails__TylYM\" data-consumer-reviews-count=\"1\"><span class=\"typography_body-m__k2UI7 typography_appearance-subtle__PYOVM\" data-consumer-country-typography=\"true\">GB</span><span class=\"typography_body-xs__IKE8N typography_appearance-subtle__PYOVM\" data-lil-dot-typography=\"true\">•</span><span class=\"typography_body-m__k2UI7 typography_appearance-subtle__PYOVM\" data-consumer-reviews-count-typography=\"true\">1<!-- --> review</span></div></a></div></aside><div class=\"typography_body-m__k2UI7 typography_appearance-subtle__PYOVM\"><time class=\"\" data-service-review-date-time-ago=\"true\" datetime=\"2025-03-19T11:30:25.000Z\">2 days ago</time></div></div><section aria-disabled=\"false\" class=\"styles_reviewContentwrapper__Tzamw\"><div class=\"styles_reviewHeader__PuHBd\" data-service-review-rating=\"1\"><div class=\"star-rating_starRating__sdbkn star-rating_medium__Oj7C9\"><img alt=\"Rated 1 out of 5 stars\" src=\"https://cdn.trustpilot.net/brand-assets/4.1.0/stars/stars-1.svg\"/></div></div><div aria-hidden=\"false\" class=\"styles_reviewContent__SCYfD\" data-review-content=\"true\"><a class=\"link_internal__Eam_b typography_appearance-inherit__YnCNb link_link__jBdLV link_notUnderlined__y4Qsc\" data-review-title-typography=\"true\" href=\"/reviews/67da8eb1c1a42c7654ca18aa\" rel=\"nofollow\" target=\"_self\"><h2 class=\"typography_heading-xs__osRhC typography_appearance-default__t8iAq\" data-service-review-title-typography=\"true\">My app has been hacked and taken over</h2></a><p class=\"typography_body-l__v5JLj typography_appearance-default__t8iAq\" data-service-review-text-typography=\"true\">My app has been hacked and taken over. I cannot get Lidl to take it down. I was given customer service details and they are stalling. I need them to urgently advise if it's been done! Beware of the app.</p><p class=\"typography_body-m__k2UI7 typography_appearance-default__t8iAq\" data-service-review-date-of-experience-typography=\"true\"><b class=\"typography_body-m__k2UI7 typography_appearance-default__t8iAq typography_weight-heavy__rS52U\" weight=\"heavy\">Date of experience<!-- -->:</b> <span class=\"typography_body-m__k2UI7 typography_appearance-subtle__PYOVM\">16 March 2025</span></p></div></section></div></article>,\n",
       " <article class=\"paper_paper__EGeEb paper_square__owXbO card_card__yyGgu card_noPadding__OOiac card_square___AZeg styles_reviewCard__rvE5E\" data-service-review-card-paper=\"true\"><div><div class=\"styles_reviewCardInnerHeader__dKkyc\"><aside aria-label=\"Info for Pete Wylie\" class=\"styles_consumerInfoWrapper__uQZDN\"><div class=\"styles_consumerDetailsWrapper__LSBJS\"><div class=\"avatar_avatar__QtS0N avatar_green__CI6et\" data-consumer-avatar=\"true\" style=\"width:44px;min-width:44px;height:44px;min-height:44px\"><span class=\"typography_heading-xs__osRhC typography_appearance-default__t8iAq typography_disableResponsiveSizing__z3EGy avatar_avatarName__2WZwR\">PW</span></div><a class=\"link_internal__Eam_b link_wrapper__ahpyq styles_consumerDetails__qg84T\" data-consumer-profile-link=\"true\" href=\"/users/5a6de3480000ff000b085c12\" name=\"consumer-profile\" rel=\"nofollow\" target=\"_self\"><span class=\"typography_heading-xs__osRhC typography_appearance-default__t8iAq\" data-consumer-name-typography=\"true\">Pete Wylie</span><div class=\"styles_consumerExtraDetails__TylYM\" data-consumer-reviews-count=\"7\"><span class=\"typography_body-m__k2UI7 typography_appearance-subtle__PYOVM\" data-consumer-country-typography=\"true\">GB</span><span class=\"typography_body-xs__IKE8N typography_appearance-subtle__PYOVM\" data-lil-dot-typography=\"true\">•</span><span class=\"typography_body-m__k2UI7 typography_appearance-subtle__PYOVM\" data-consumer-reviews-count-typography=\"true\">7<!-- --> reviews</span></div></a></div></aside><div class=\"typography_body-m__k2UI7 typography_appearance-subtle__PYOVM\"><time class=\"\" data-service-review-date-time-ago=\"true\" datetime=\"2025-03-18T06:59:25.000Z\">3 days ago</time></div></div><section aria-disabled=\"false\" class=\"styles_reviewContentwrapper__Tzamw\"><div class=\"styles_reviewHeader__PuHBd\" data-service-review-rating=\"1\"><div class=\"star-rating_starRating__sdbkn star-rating_medium__Oj7C9\"><img alt=\"Rated 1 out of 5 stars\" src=\"https://cdn.trustpilot.net/brand-assets/4.1.0/stars/stars-1.svg\"/></div></div><div aria-hidden=\"false\" class=\"styles_reviewContent__SCYfD\" data-review-content=\"true\"><a class=\"link_internal__Eam_b typography_appearance-inherit__YnCNb link_link__jBdLV link_notUnderlined__y4Qsc\" data-review-title-typography=\"true\" href=\"/reviews/67d8fdad59ea5cf29abfe13f\" rel=\"nofollow\" target=\"_self\"><h2 class=\"typography_heading-xs__osRhC typography_appearance-default__t8iAq\" data-service-review-title-typography=\"true\">Lidl Sheffield city centre</h2></a><p class=\"typography_body-l__v5JLj typography_appearance-default__t8iAq\" data-service-review-text-typography=\"true\">Lidl Sheffield city centre. Root vegetables are no good at all and rotting. Root vegetables usually last a long time so they must be really old. Got some baby potatoes yesterday and once opened I could see that they had once been sprouting but had had the shoots removed in an obvious move to disguise there age, the bag was not see-through. The potatoes were soft. Onions that I got at the same time were sprouting internally. Could not make my meal so other food that I was preparing had to be thrown and I had to go hungry.</p><p class=\"typography_body-m__k2UI7 typography_appearance-default__t8iAq\" data-service-review-date-of-experience-typography=\"true\"><b class=\"typography_body-m__k2UI7 typography_appearance-default__t8iAq typography_weight-heavy__rS52U\" weight=\"heavy\">Date of experience<!-- -->:</b> <span class=\"typography_body-m__k2UI7 typography_appearance-subtle__PYOVM\">17 March 2025</span></p></div></section></div></article>,\n",
       " <article class=\"paper_paper__EGeEb paper_square__owXbO card_card__yyGgu card_noPadding__OOiac card_square___AZeg styles_reviewCard__rvE5E\" data-service-review-card-paper=\"true\"><div><div class=\"styles_reviewCardInnerHeader__dKkyc\"><aside aria-label=\"Info for Degasia\" class=\"styles_consumerInfoWrapper__uQZDN\"><div class=\"styles_consumerDetailsWrapper__LSBJS\"><div class=\"avatar_avatar__QtS0N avatar_pink__662MO\" data-consumer-avatar=\"true\" style=\"width:44px;min-width:44px;height:44px;min-height:44px\"><span class=\"typography_heading-xs__osRhC typography_appearance-default__t8iAq typography_disableResponsiveSizing__z3EGy avatar_avatarName__2WZwR\">DE</span></div><a class=\"link_internal__Eam_b link_wrapper__ahpyq styles_consumerDetails__qg84T\" data-consumer-profile-link=\"true\" href=\"/users/5f819a77e3581c001a2b541d\" name=\"consumer-profile\" rel=\"nofollow\" target=\"_self\"><span class=\"typography_heading-xs__osRhC typography_appearance-default__t8iAq\" data-consumer-name-typography=\"true\">Degasia</span><div class=\"styles_consumerExtraDetails__TylYM\" data-consumer-reviews-count=\"20\"><span class=\"typography_body-m__k2UI7 typography_appearance-subtle__PYOVM\" data-consumer-country-typography=\"true\">GB</span><span class=\"typography_body-xs__IKE8N typography_appearance-subtle__PYOVM\" data-lil-dot-typography=\"true\">•</span><span class=\"typography_body-m__k2UI7 typography_appearance-subtle__PYOVM\" data-consumer-reviews-count-typography=\"true\">20<!-- --> reviews</span></div></a></div></aside><div class=\"typography_body-m__k2UI7 typography_appearance-subtle__PYOVM\"><time class=\"\" data-service-review-date-time-ago=\"true\" datetime=\"2025-03-17T20:03:45.000Z\">4 days ago</time></div></div><section aria-disabled=\"false\" class=\"styles_reviewContentwrapper__Tzamw\"><div class=\"styles_reviewHeader__PuHBd\" data-service-review-rating=\"1\"><div class=\"star-rating_starRating__sdbkn star-rating_medium__Oj7C9\"><img alt=\"Rated 1 out of 5 stars\" src=\"https://cdn.trustpilot.net/brand-assets/4.1.0/stars/stars-1.svg\"/></div></div><div aria-hidden=\"false\" class=\"styles_reviewContent__SCYfD\" data-review-content=\"true\"><a class=\"link_internal__Eam_b typography_appearance-inherit__YnCNb link_link__jBdLV link_notUnderlined__y4Qsc\" data-review-title-typography=\"true\" href=\"/reviews/67d864010370ca350d1d0f4f\" rel=\"nofollow\" target=\"_self\"><h2 class=\"typography_heading-xs__osRhC typography_appearance-default__t8iAq\" data-service-review-title-typography=\"true\">Cat piss smell</h2></a><p class=\"typography_body-l__v5JLj typography_appearance-default__t8iAq\" data-service-review-text-typography=\"true\">Your entire store at Hilsea smells like cat piss ,like all the cats in Portsmouth came and spray all your store.Its really strong and disturbing its everywhere so if you are using a desinfectant stop and change it cause its iritating.</p><p class=\"typography_body-m__k2UI7 typography_appearance-default__t8iAq\" data-service-review-date-of-experience-typography=\"true\"><b class=\"typography_body-m__k2UI7 typography_appearance-default__t8iAq typography_weight-heavy__rS52U\" weight=\"heavy\">Date of experience<!-- -->:</b> <span class=\"typography_body-m__k2UI7 typography_appearance-subtle__PYOVM\">17 March 2025</span></p></div></section><div class=\"paper_paper__EGeEb card_card__yyGgu card_noPadding__OOiac styles_wrapper___Td1L\"><div><svg fill=\"none\" height=\"38\" viewbox=\"0 0 14 38\" width=\"14\" xmlns=\"http://www.w3.org/2000/svg\"><path d=\"M1 1V25C1 31.6274 6.37258 37 13 37V37\" stroke=\"#E5E5DD\" stroke-linecap=\"round\" stroke-width=\"2\"></path></svg></div><div class=\"styles_content__BImMg\"><div class=\"styles_replyHeader__aEZg_\"><picture class=\"business-profile-image_containmentWrapper__xJZjr styles_businessLogo__ec7Rh\"><source srcset=\"https://consumersiteimages.trustpilot.net/business-units/4bdc15ee0000640005058609-198x149-1x.avif, https://consumersiteimages.trustpilot.net/business-units/4bdc15ee0000640005058609-198x149-2x.avif 2x\" type=\"image/avif\"/><source srcset=\"https://consumersiteimages.trustpilot.net/business-units/4bdc15ee0000640005058609-198x149-1x.jpg, https://consumersiteimages.trustpilot.net/business-units/4bdc15ee0000640005058609-198x149-2x.jpg 2x\" type=\"image/jpeg\"/><img alt=\"Lidl GB logo\" class=\"business-profile-image_image__V14jr\" decoding=\"async\" loading=\"lazy\" src=\"https://consumersiteimages.trustpilot.net/business-units/4bdc15ee0000640005058609-198x149-1x.jpg\"/></picture><div class=\"styles_replyInfo__VwTUN\"><p class=\"typography_body-m__k2UI7 typography_appearance-default__t8iAq typography_weight-heavy__rS52U styles_replyCompany__YykfC\" data-service-review-business-reply-title-typography=\"true\" weight=\"heavy\">Reply from Lidl GB</p><time class=\"typography_body-s__IqDta typography_appearance-default__t8iAq\" data-service-review-business-reply-date-time-ago=\"true\" datetime=\"2025-03-19T10:37:59.000Z\">2 days ago</time></div></div><p class=\"typography_body-m__k2UI7 typography_appearance-default__t8iAq styles_message__l9HgT\" data-service-review-business-reply-text-typography=\"true\">Sorry to hear this! We'll get this raised with the regional team to get this sorted in store. - Jemma</p></div></div></div></article>,\n",
       " <article class=\"paper_paper__EGeEb paper_square__owXbO card_card__yyGgu card_noPadding__OOiac card_square___AZeg styles_reviewCard__rvE5E\" data-service-review-card-paper=\"true\"><div><div class=\"styles_reviewCardInnerHeader__dKkyc\"><aside aria-label=\"Info for scott \" class=\"styles_consumerInfoWrapper__uQZDN\"><div class=\"styles_consumerDetailsWrapper__LSBJS\"><div class=\"avatar_avatar__QtS0N avatar_green__CI6et\" data-consumer-avatar=\"true\" style=\"width:44px;min-width:44px;height:44px;min-height:44px\"><span class=\"typography_heading-xs__osRhC typography_appearance-default__t8iAq typography_disableResponsiveSizing__z3EGy avatar_avatarName__2WZwR\">SC</span></div><a class=\"link_internal__Eam_b link_wrapper__ahpyq styles_consumerDetails__qg84T\" data-consumer-profile-link=\"true\" href=\"/users/5d871eb439cf141e756f4ddc\" name=\"consumer-profile\" rel=\"nofollow\" target=\"_self\"><span class=\"typography_heading-xs__osRhC typography_appearance-default__t8iAq\" data-consumer-name-typography=\"true\">scott </span><div class=\"styles_consumerExtraDetails__TylYM\" data-consumer-reviews-count=\"5\"><span class=\"typography_body-m__k2UI7 typography_appearance-subtle__PYOVM\" data-consumer-country-typography=\"true\">GB</span><span class=\"typography_body-xs__IKE8N typography_appearance-subtle__PYOVM\" data-lil-dot-typography=\"true\">•</span><span class=\"typography_body-m__k2UI7 typography_appearance-subtle__PYOVM\" data-consumer-reviews-count-typography=\"true\">5<!-- --> reviews</span></div></a></div></aside><div class=\"typography_body-m__k2UI7 typography_appearance-subtle__PYOVM\"><time class=\"\" data-service-review-date-time-ago=\"true\" datetime=\"2025-03-17T19:01:07.000Z\">4 days ago</time></div></div><section aria-disabled=\"false\" class=\"styles_reviewContentwrapper__Tzamw\"><div class=\"styles_reviewHeader__PuHBd\" data-service-review-rating=\"2\"><div class=\"star-rating_starRating__sdbkn star-rating_medium__Oj7C9\"><img alt=\"Rated 2 out of 5 stars\" src=\"https://cdn.trustpilot.net/brand-assets/4.1.0/stars/stars-2.svg\"/></div></div><div aria-hidden=\"false\" class=\"styles_reviewContent__SCYfD\" data-review-content=\"true\"><a class=\"link_internal__Eam_b typography_appearance-inherit__YnCNb link_link__jBdLV link_notUnderlined__y4Qsc\" data-review-title-typography=\"true\" href=\"/reviews/67d8555217bb9066aeff3b86\" rel=\"nofollow\" target=\"_self\"><h2 class=\"typography_heading-xs__osRhC typography_appearance-default__t8iAq\" data-service-review-title-typography=\"true\">Lidl yoker</h2></a><p class=\"typography_body-l__v5JLj typography_appearance-default__t8iAq\" data-service-review-text-typography=\"true\">Fruit and vegetables are often rotten on the shelf.  Not very fresh rotting fast at home after purchase </p><p class=\"typography_body-m__k2UI7 typography_appearance-default__t8iAq\" data-service-review-date-of-experience-typography=\"true\"><b class=\"typography_body-m__k2UI7 typography_appearance-default__t8iAq typography_weight-heavy__rS52U\" weight=\"heavy\">Date of experience<!-- -->:</b> <span class=\"typography_body-m__k2UI7 typography_appearance-subtle__PYOVM\">16 March 2025</span></p></div></section><div class=\"paper_paper__EGeEb card_card__yyGgu card_noPadding__OOiac styles_wrapper___Td1L\"><div><svg fill=\"none\" height=\"38\" viewbox=\"0 0 14 38\" width=\"14\" xmlns=\"http://www.w3.org/2000/svg\"><path d=\"M1 1V25C1 31.6274 6.37258 37 13 37V37\" stroke=\"#E5E5DD\" stroke-linecap=\"round\" stroke-width=\"2\"></path></svg></div><div class=\"styles_content__BImMg\"><div class=\"styles_replyHeader__aEZg_\"><picture class=\"business-profile-image_containmentWrapper__xJZjr styles_businessLogo__ec7Rh\"><source srcset=\"https://consumersiteimages.trustpilot.net/business-units/4bdc15ee0000640005058609-198x149-1x.avif, https://consumersiteimages.trustpilot.net/business-units/4bdc15ee0000640005058609-198x149-2x.avif 2x\" type=\"image/avif\"/><source srcset=\"https://consumersiteimages.trustpilot.net/business-units/4bdc15ee0000640005058609-198x149-1x.jpg, https://consumersiteimages.trustpilot.net/business-units/4bdc15ee0000640005058609-198x149-2x.jpg 2x\" type=\"image/jpeg\"/><img alt=\"Lidl GB logo\" class=\"business-profile-image_image__V14jr\" decoding=\"async\" loading=\"lazy\" src=\"https://consumersiteimages.trustpilot.net/business-units/4bdc15ee0000640005058609-198x149-1x.jpg\"/></picture><div class=\"styles_replyInfo__VwTUN\"><p class=\"typography_body-m__k2UI7 typography_appearance-default__t8iAq typography_weight-heavy__rS52U styles_replyCompany__YykfC\" data-service-review-business-reply-title-typography=\"true\" weight=\"heavy\">Reply from Lidl GB</p><time class=\"typography_body-s__IqDta typography_appearance-default__t8iAq\" data-service-review-business-reply-date-time-ago=\"true\" datetime=\"2025-03-19T10:39:31.000Z\">2 days ago</time></div></div><p class=\"typography_body-m__k2UI7 typography_appearance-default__t8iAq styles_message__l9HgT\" data-service-review-business-reply-text-typography=\"true\">Sorry to hear this. Please email customerservice.reviews@lidl.co.uk with more information and we'll be more than happy to look into this for you. - Jemma</p></div></div></div></article>,\n",
       " <article class=\"paper_paper__EGeEb paper_square__owXbO card_card__yyGgu card_noPadding__OOiac card_square___AZeg styles_reviewCard__rvE5E\" data-service-review-card-paper=\"true\"><div><div class=\"styles_reviewCardInnerHeader__dKkyc\"><aside aria-label=\"Info for Paul \" class=\"styles_consumerInfoWrapper__uQZDN\"><div class=\"styles_consumerDetailsWrapper__LSBJS\"><div class=\"avatar_avatar__QtS0N avatar_pink__662MO\" data-consumer-avatar=\"true\" style=\"width:44px;min-width:44px;height:44px;min-height:44px\"><span class=\"typography_heading-xs__osRhC typography_appearance-default__t8iAq typography_disableResponsiveSizing__z3EGy avatar_avatarName__2WZwR\">PA</span></div><a class=\"link_internal__Eam_b link_wrapper__ahpyq styles_consumerDetails__qg84T\" data-consumer-profile-link=\"true\" href=\"/users/56ebbc2b0000ff000a0fc0e7\" name=\"consumer-profile\" rel=\"nofollow\" target=\"_self\"><span class=\"typography_heading-xs__osRhC typography_appearance-default__t8iAq\" data-consumer-name-typography=\"true\">Paul </span><div class=\"styles_consumerExtraDetails__TylYM\" data-consumer-reviews-count=\"69\"><span class=\"typography_body-m__k2UI7 typography_appearance-subtle__PYOVM\" data-consumer-country-typography=\"true\">GB</span><span class=\"typography_body-xs__IKE8N typography_appearance-subtle__PYOVM\" data-lil-dot-typography=\"true\">•</span><span class=\"typography_body-m__k2UI7 typography_appearance-subtle__PYOVM\" data-consumer-reviews-count-typography=\"true\">69<!-- --> reviews</span></div></a></div></aside><div class=\"typography_body-m__k2UI7 typography_appearance-subtle__PYOVM\"><time class=\"\" data-service-review-date-time-ago=\"true\" datetime=\"2025-03-16T16:32:07.000Z\">5 days ago</time></div></div><section aria-disabled=\"false\" class=\"styles_reviewContentwrapper__Tzamw\"><div class=\"styles_reviewHeader__PuHBd\" data-service-review-rating=\"1\"><div class=\"star-rating_starRating__sdbkn star-rating_medium__Oj7C9\"><img alt=\"Rated 1 out of 5 stars\" src=\"https://cdn.trustpilot.net/brand-assets/4.1.0/stars/stars-1.svg\"/></div></div><div aria-hidden=\"false\" class=\"styles_reviewContent__SCYfD\" data-review-content=\"true\"><a class=\"link_internal__Eam_b typography_appearance-inherit__YnCNb link_link__jBdLV link_notUnderlined__y4Qsc\" data-review-title-typography=\"true\" href=\"/reviews/67d6e0e72c8253ffbad720ed\" rel=\"nofollow\" target=\"_self\"><h2 class=\"typography_heading-xs__osRhC typography_appearance-default__t8iAq\" data-service-review-title-typography=\"true\">Lidl Twickenham please sell to Aldi. </h2></a><p class=\"typography_body-l__v5JLj typography_appearance-default__t8iAq\" data-service-review-text-typography=\"true\">Lidl Twickenham removed numerous tills to install 6 further self serve tills only to have them closed more times than open. The other week an elderly gent asked a member of staff why the expense of adding extra tills to have them shut when the queues are long. The staff member suggested he go speak to the manager meaning he'd have to leave the queue which understandably he didn't do. I walked in yesterday only to get a couple of bits and saw upwards of 20+ people queuing so opted to just leave. Attempts to leave were impossible due to baskets etc and wasn't going to try and clamber over peoples shopping. All other exit paths were blocked off so the only way was to egress via the entrance as was now feeling like I was being held against my will. I had witnessed an Indian guy depart ahead of me so done the same, expect the security guard started having a go telling me I was not allowed to exit that way and I have to go via the self serve or wait until I can get through. He had the audacity to then accuse me of putting items into my work bag but refused when it was given to him to search whilst I waited for a manager to complain. He has seen me in there pretty much every day as I work next door and go in uniform each time so hardly going to try and shoplift a 75p loaf of bread. Yet it was clear the Indian guy who left via the same way didn't get the same hostilities.<br/>I've previously witnessed members of staff goading youths and offering them out only to call the Police when they got belted. Cheap prices and cheap customer services. Please do everyone a favour and sell the location to Aldi and take your stroppy staff with you!!!</p><p class=\"typography_body-m__k2UI7 typography_appearance-default__t8iAq\" data-service-review-date-of-experience-typography=\"true\"><b class=\"typography_body-m__k2UI7 typography_appearance-default__t8iAq typography_weight-heavy__rS52U\" weight=\"heavy\">Date of experience<!-- -->:</b> <span class=\"typography_body-m__k2UI7 typography_appearance-subtle__PYOVM\">15 March 2025</span></p></div></section><div class=\"paper_paper__EGeEb card_card__yyGgu card_noPadding__OOiac styles_wrapper___Td1L\"><div><svg fill=\"none\" height=\"38\" viewbox=\"0 0 14 38\" width=\"14\" xmlns=\"http://www.w3.org/2000/svg\"><path d=\"M1 1V25C1 31.6274 6.37258 37 13 37V37\" stroke=\"#E5E5DD\" stroke-linecap=\"round\" stroke-width=\"2\"></path></svg></div><div class=\"styles_content__BImMg\"><div class=\"styles_replyHeader__aEZg_\"><picture class=\"business-profile-image_containmentWrapper__xJZjr styles_businessLogo__ec7Rh\"><source srcset=\"https://consumersiteimages.trustpilot.net/business-units/4bdc15ee0000640005058609-198x149-1x.avif, https://consumersiteimages.trustpilot.net/business-units/4bdc15ee0000640005058609-198x149-2x.avif 2x\" type=\"image/avif\"/><source srcset=\"https://consumersiteimages.trustpilot.net/business-units/4bdc15ee0000640005058609-198x149-1x.jpg, https://consumersiteimages.trustpilot.net/business-units/4bdc15ee0000640005058609-198x149-2x.jpg 2x\" type=\"image/jpeg\"/><img alt=\"Lidl GB logo\" class=\"business-profile-image_image__V14jr\" decoding=\"async\" loading=\"lazy\" src=\"https://consumersiteimages.trustpilot.net/business-units/4bdc15ee0000640005058609-198x149-1x.jpg\"/></picture><div class=\"styles_replyInfo__VwTUN\"><p class=\"typography_body-m__k2UI7 typography_appearance-default__t8iAq typography_weight-heavy__rS52U styles_replyCompany__YykfC\" data-service-review-business-reply-title-typography=\"true\" weight=\"heavy\">Reply from Lidl GB</p><time class=\"typography_body-s__IqDta typography_appearance-default__t8iAq\" data-service-review-business-reply-date-time-ago=\"true\" datetime=\"2025-03-19T10:45:28.000Z\">2 days ago</time></div></div><p class=\"typography_body-m__k2UI7 typography_appearance-default__t8iAq styles_message__l9HgT\" data-service-review-business-reply-text-typography=\"true\">We're so sorry to see this! We expect a high level of customer care and we're disappointed if this hasn't been the case. Please email customerservice.reviews@lidl.co.uk and we'll have this looked into. - Jemma</p></div></div></div></article>,\n",
       " <article class=\"paper_paper__EGeEb paper_square__owXbO card_card__yyGgu card_noPadding__OOiac card_square___AZeg styles_reviewCard__rvE5E\" data-service-review-card-paper=\"true\"><div><div class=\"styles_reviewCardInnerHeader__dKkyc\"><aside aria-label=\"Info for Sweetpea\" class=\"styles_consumerInfoWrapper__uQZDN\"><div class=\"styles_consumerDetailsWrapper__LSBJS\"><div class=\"avatar_avatar__QtS0N avatar_green__CI6et\" data-consumer-avatar=\"true\" style=\"width:44px;min-width:44px;height:44px;min-height:44px\"><span class=\"typography_heading-xs__osRhC typography_appearance-default__t8iAq typography_disableResponsiveSizing__z3EGy avatar_avatarName__2WZwR\">SW</span></div><a class=\"link_internal__Eam_b link_wrapper__ahpyq styles_consumerDetails__qg84T\" data-consumer-profile-link=\"true\" href=\"/users/5c40da6cb0fdad7f970e60b7\" name=\"consumer-profile\" rel=\"nofollow\" target=\"_self\"><span class=\"typography_heading-xs__osRhC typography_appearance-default__t8iAq\" data-consumer-name-typography=\"true\">Sweetpea</span><div class=\"styles_consumerExtraDetails__TylYM\" data-consumer-reviews-count=\"10\"><span class=\"typography_body-m__k2UI7 typography_appearance-subtle__PYOVM\" data-consumer-country-typography=\"true\">GB</span><span class=\"typography_body-xs__IKE8N typography_appearance-subtle__PYOVM\" data-lil-dot-typography=\"true\">•</span><span class=\"typography_body-m__k2UI7 typography_appearance-subtle__PYOVM\" data-consumer-reviews-count-typography=\"true\">10<!-- --> reviews</span></div></a></div></aside><div class=\"typography_body-m__k2UI7 typography_appearance-subtle__PYOVM\"><time class=\"\" data-service-review-date-time-ago=\"true\" datetime=\"2025-03-16T12:50:53.000Z\">5 days ago</time></div></div><section aria-disabled=\"false\" class=\"styles_reviewContentwrapper__Tzamw\"><div class=\"styles_reviewHeader__PuHBd\" data-service-review-rating=\"1\"><div class=\"star-rating_starRating__sdbkn star-rating_medium__Oj7C9\"><img alt=\"Rated 1 out of 5 stars\" src=\"https://cdn.trustpilot.net/brand-assets/4.1.0/stars/stars-1.svg\"/></div></div><div aria-hidden=\"false\" class=\"styles_reviewContent__SCYfD\" data-review-content=\"true\"><a class=\"link_internal__Eam_b typography_appearance-inherit__YnCNb link_link__jBdLV link_notUnderlined__y4Qsc\" data-review-title-typography=\"true\" href=\"/reviews/67d6ad0dfcdeafe4c3481f29\" rel=\"nofollow\" target=\"_self\"><h2 class=\"typography_heading-xs__osRhC typography_appearance-default__t8iAq\" data-service-review-title-typography=\"true\">Taunton Lidls lettuce not chilled- now floppy...</h2></a><p class=\"typography_body-l__v5JLj typography_appearance-default__t8iAq\" data-service-review-text-typography=\"true\">Taunton Lidls now, for some weeks, keeps lettuce on open shelves , not chilled - so not fresh, rather floppy and dry- mostly gets thrown away- but only once!<br/>Now I go elsewhere for lettuce - and other grocery items.  <br/>Pse Lidls do something- this is inexcusable, and badly planned -  staff state they are told to put the lettuce on open shelves,  BUT  lettuce needs to be chilled!!</p><p class=\"typography_body-m__k2UI7 typography_appearance-default__t8iAq\" data-service-review-date-of-experience-typography=\"true\"><b class=\"typography_body-m__k2UI7 typography_appearance-default__t8iAq typography_weight-heavy__rS52U\" weight=\"heavy\">Date of experience<!-- -->:</b> <span class=\"typography_body-m__k2UI7 typography_appearance-subtle__PYOVM\">15 March 2025</span></p></div></section><div class=\"paper_paper__EGeEb card_card__yyGgu card_noPadding__OOiac styles_wrapper___Td1L\"><div><svg fill=\"none\" height=\"38\" viewbox=\"0 0 14 38\" width=\"14\" xmlns=\"http://www.w3.org/2000/svg\"><path d=\"M1 1V25C1 31.6274 6.37258 37 13 37V37\" stroke=\"#E5E5DD\" stroke-linecap=\"round\" stroke-width=\"2\"></path></svg></div><div class=\"styles_content__BImMg\"><div class=\"styles_replyHeader__aEZg_\"><picture class=\"business-profile-image_containmentWrapper__xJZjr styles_businessLogo__ec7Rh\"><source srcset=\"https://consumersiteimages.trustpilot.net/business-units/4bdc15ee0000640005058609-198x149-1x.avif, https://consumersiteimages.trustpilot.net/business-units/4bdc15ee0000640005058609-198x149-2x.avif 2x\" type=\"image/avif\"/><source srcset=\"https://consumersiteimages.trustpilot.net/business-units/4bdc15ee0000640005058609-198x149-1x.jpg, https://consumersiteimages.trustpilot.net/business-units/4bdc15ee0000640005058609-198x149-2x.jpg 2x\" type=\"image/jpeg\"/><img alt=\"Lidl GB logo\" class=\"business-profile-image_image__V14jr\" decoding=\"async\" loading=\"lazy\" src=\"https://consumersiteimages.trustpilot.net/business-units/4bdc15ee0000640005058609-198x149-1x.jpg\"/></picture><div class=\"styles_replyInfo__VwTUN\"><p class=\"typography_body-m__k2UI7 typography_appearance-default__t8iAq typography_weight-heavy__rS52U styles_replyCompany__YykfC\" data-service-review-business-reply-title-typography=\"true\" weight=\"heavy\">Reply from Lidl GB</p><time class=\"typography_body-s__IqDta typography_appearance-default__t8iAq\" data-service-review-business-reply-date-time-ago=\"true\" datetime=\"2025-03-17T10:18:45.000Z\">4 days ago</time></div></div><p class=\"typography_body-m__k2UI7 typography_appearance-default__t8iAq styles_message__l9HgT\" data-service-review-business-reply-text-typography=\"true\">Sorry to hear this. We'll get this raised with the regional team to ensure this is addressed with the store. - Farrah</p></div></div></div></article>,\n",
       " <article class=\"paper_paper__EGeEb paper_square__owXbO card_card__yyGgu card_noPadding__OOiac card_square___AZeg styles_reviewCard__rvE5E\" data-service-review-card-paper=\"true\"><div><div class=\"styles_reviewCardInnerHeader__dKkyc\"><aside aria-label=\"Info for Mark Hennessy\" class=\"styles_consumerInfoWrapper__uQZDN\"><div class=\"styles_consumerDetailsWrapper__LSBJS\"><div class=\"avatar_avatar__QtS0N avatar_orange__cIcPd\" data-consumer-avatar=\"true\" style=\"width:44px;min-width:44px;height:44px;min-height:44px\"><span class=\"typography_heading-xs__osRhC typography_appearance-default__t8iAq typography_disableResponsiveSizing__z3EGy avatar_avatarName__2WZwR\">MH</span></div><a class=\"link_internal__Eam_b link_wrapper__ahpyq styles_consumerDetails__qg84T\" data-consumer-profile-link=\"true\" href=\"/users/625661fa613f560013adcb87\" name=\"consumer-profile\" rel=\"nofollow\" target=\"_self\"><span class=\"typography_heading-xs__osRhC typography_appearance-default__t8iAq\" data-consumer-name-typography=\"true\">Mark Hennessy</span><div class=\"styles_consumerExtraDetails__TylYM\" data-consumer-reviews-count=\"4\"><span class=\"typography_body-m__k2UI7 typography_appearance-subtle__PYOVM\" data-consumer-country-typography=\"true\">GB</span><span class=\"typography_body-xs__IKE8N typography_appearance-subtle__PYOVM\" data-lil-dot-typography=\"true\">•</span><span class=\"typography_body-m__k2UI7 typography_appearance-subtle__PYOVM\" data-consumer-reviews-count-typography=\"true\">4<!-- --> reviews</span></div></a></div></aside><div class=\"typography_body-m__k2UI7 typography_appearance-subtle__PYOVM\"><time class=\"\" data-service-review-date-time-ago=\"true\" datetime=\"2025-03-16T11:43:34.000Z\">5 days ago</time></div></div><section aria-disabled=\"false\" class=\"styles_reviewContentwrapper__Tzamw\"><div class=\"styles_reviewHeader__PuHBd\" data-service-review-rating=\"5\"><div class=\"star-rating_starRating__sdbkn star-rating_medium__Oj7C9\"><img alt=\"Rated 5 out of 5 stars\" src=\"https://cdn.trustpilot.net/brand-assets/4.1.0/stars/stars-5.svg\"/></div></div><div aria-hidden=\"false\" class=\"styles_reviewContent__SCYfD\" data-review-content=\"true\"><a class=\"link_internal__Eam_b typography_appearance-inherit__YnCNb link_link__jBdLV link_notUnderlined__y4Qsc\" data-review-title-typography=\"true\" href=\"/reviews/67d69d463901066752de7552\" rel=\"nofollow\" target=\"_self\"><h2 class=\"typography_heading-xs__osRhC typography_appearance-default__t8iAq\" data-service-review-title-typography=\"true\">Lidl in Fakenham in Norfolk has great…</h2></a><p class=\"typography_body-l__v5JLj typography_appearance-default__t8iAq\" data-service-review-text-typography=\"true\">Lidl in Fakenham in Norfolk has great staff who really go the extra mile to look after their customers. I have witnessed Emma one of the team consistently helping out some of the more elderly customers with patience and real care which is lovely to see.</p><p class=\"typography_body-m__k2UI7 typography_appearance-default__t8iAq\" data-service-review-date-of-experience-typography=\"true\"><b class=\"typography_body-m__k2UI7 typography_appearance-default__t8iAq typography_weight-heavy__rS52U\" weight=\"heavy\">Date of experience<!-- -->:</b> <span class=\"typography_body-m__k2UI7 typography_appearance-subtle__PYOVM\">24 February 2025</span></p></div></section></div></article>,\n",
       " <article class=\"paper_paper__EGeEb paper_square__owXbO card_card__yyGgu card_noPadding__OOiac card_square___AZeg styles_reviewCard__rvE5E\" data-service-review-card-paper=\"true\"><div><div class=\"styles_reviewCardInnerHeader__dKkyc\"><aside aria-label=\"Info for MR D STALKER\" class=\"styles_consumerInfoWrapper__uQZDN\"><div class=\"styles_consumerDetailsWrapper__LSBJS\"><span><button aria-label=\"MR D STALKER\" class=\"styles_btnWrapper__arGPQ\"><div class=\"avatar_imageWrapper__9hWrp\" style=\"width:44px;height:44px;min-width:44px;min-height:44px\"><img alt=\"\" data-consumer-avatar-image=\"true\" data-nimg=\"1\" decoding=\"async\" height=\"44\" loading=\"lazy\" src=\"https://user-images.trustpilot.com/513893e700006400013348ad/73x73.png\" style=\"color:transparent\" width=\"44\"/></div><span class=\"styles_badge__oQ9m4\"><svg class=\"icon_icon__RdICC icon_appearance-default__AeU7K\" height=\"14px\" viewbox=\"0 0 16 16\" width=\"14px\" xmlns=\"http://www.w3.org/2000/svg\"><path class=\"ic-verified-user\" d=\"M1 3a2 2 0 0 1 2-2h10a2 2 0 0 1 2 2v7.989a2 2 0 0 1-1.298 1.873l-5 1.875c-.453.17-.951.17-1.404 0l-5-1.875A2 2 0 0 1 1 10.989V3Z\"></path><path class=\"ic-verified-user-check\" d=\"M11.618 6.12a.875.875 0 1 0-1.236-1.24L7.03 8.22 5.66 6.647a.875.875 0 0 0-1.32 1.15l1.768 2.03c.041.047.086.089.135.125a.875.875 0 0 0 1.364.163l4.01-3.995Z\"></path></svg></span></button></span><a class=\"link_internal__Eam_b link_wrapper__ahpyq styles_consumerDetails__qg84T\" data-consumer-profile-link=\"true\" href=\"/users/513893e700006400013348ad\" name=\"consumer-profile\" rel=\"nofollow\" target=\"_self\"><span class=\"typography_heading-xs__osRhC typography_appearance-default__t8iAq\" data-consumer-name-typography=\"true\">MR D STALKER</span><div class=\"styles_consumerExtraDetails__TylYM\" data-consumer-reviews-count=\"101\"><span class=\"typography_body-m__k2UI7 typography_appearance-subtle__PYOVM\" data-consumer-country-typography=\"true\">GB</span><span class=\"typography_body-xs__IKE8N typography_appearance-subtle__PYOVM\" data-lil-dot-typography=\"true\">•</span><span class=\"typography_body-m__k2UI7 typography_appearance-subtle__PYOVM\" data-consumer-reviews-count-typography=\"true\">101<!-- --> reviews</span></div></a></div></aside><div class=\"typography_body-m__k2UI7 typography_appearance-subtle__PYOVM\"><time class=\"\" data-service-review-date-time-ago=\"true\" datetime=\"2025-03-16T11:39:51.000Z\">5 days ago</time></div></div><section aria-disabled=\"false\" class=\"styles_reviewContentwrapper__Tzamw\"><div class=\"styles_reviewHeader__PuHBd\" data-service-review-rating=\"3\"><div class=\"star-rating_starRating__sdbkn star-rating_medium__Oj7C9\"><img alt=\"Rated 3 out of 5 stars\" src=\"https://cdn.trustpilot.net/brand-assets/4.1.0/stars/stars-3.svg\"/></div></div><div aria-hidden=\"false\" class=\"styles_reviewContent__SCYfD\" data-review-content=\"true\"><a class=\"link_internal__Eam_b typography_appearance-inherit__YnCNb link_link__jBdLV link_notUnderlined__y4Qsc\" data-review-title-typography=\"true\" href=\"/reviews/67d69c671510dee099cfa4d7\" rel=\"nofollow\" target=\"_self\"><h2 class=\"typography_heading-xs__osRhC typography_appearance-default__t8iAq\" data-service-review-title-typography=\"true\">Frustrating </h2></a><p class=\"typography_body-l__v5JLj typography_appearance-default__t8iAq\" data-service-review-text-typography=\"true\">I do like Lidl but find it very frustrating when they give coupons for goods which they don't stock or are out of stock which happens very frequently. They are also excellent at advertising discounts on goods they don't have in stock.</p><p class=\"typography_body-m__k2UI7 typography_appearance-default__t8iAq\" data-service-review-date-of-experience-typography=\"true\"><b class=\"typography_body-m__k2UI7 typography_appearance-default__t8iAq typography_weight-heavy__rS52U\" weight=\"heavy\">Date of experience<!-- -->:</b> <span class=\"typography_body-m__k2UI7 typography_appearance-subtle__PYOVM\">16 March 2025</span></p></div></section></div></article>,\n",
       " <article class=\"paper_paper__EGeEb paper_square__owXbO card_card__yyGgu card_noPadding__OOiac card_square___AZeg styles_reviewCard__rvE5E\" data-service-review-card-paper=\"true\"><div><div class=\"styles_reviewCardInnerHeader__dKkyc\"><aside aria-label=\"Info for LOLly\" class=\"styles_consumerInfoWrapper__uQZDN\"><div class=\"styles_consumerDetailsWrapper__LSBJS\"><span><button aria-label=\"LOLly\" class=\"styles_btnWrapper__arGPQ\"><div class=\"avatar_avatar__QtS0N avatar_green__CI6et\" data-consumer-avatar=\"true\" style=\"width:44px;min-width:44px;height:44px;min-height:44px\"><span class=\"typography_heading-xs__osRhC typography_appearance-default__t8iAq typography_disableResponsiveSizing__z3EGy avatar_avatarName__2WZwR\">LO</span></div><span class=\"styles_badge__oQ9m4\"><svg class=\"icon_icon__RdICC icon_appearance-default__AeU7K\" height=\"14px\" viewbox=\"0 0 16 16\" width=\"14px\" xmlns=\"http://www.w3.org/2000/svg\"><path class=\"ic-verified-user\" d=\"M1 3a2 2 0 0 1 2-2h10a2 2 0 0 1 2 2v7.989a2 2 0 0 1-1.298 1.873l-5 1.875c-.453.17-.951.17-1.404 0l-5-1.875A2 2 0 0 1 1 10.989V3Z\"></path><path class=\"ic-verified-user-check\" d=\"M11.618 6.12a.875.875 0 1 0-1.236-1.24L7.03 8.22 5.66 6.647a.875.875 0 0 0-1.32 1.15l1.768 2.03c.041.047.086.089.135.125a.875.875 0 0 0 1.364.163l4.01-3.995Z\"></path></svg></span></button></span><a class=\"link_internal__Eam_b link_wrapper__ahpyq styles_consumerDetails__qg84T\" data-consumer-profile-link=\"true\" href=\"/users/5b9371a04de5666d343f59ea\" name=\"consumer-profile\" rel=\"nofollow\" target=\"_self\"><span class=\"typography_heading-xs__osRhC typography_appearance-default__t8iAq\" data-consumer-name-typography=\"true\">LOLly</span><div class=\"styles_consumerExtraDetails__TylYM\" data-consumer-reviews-count=\"31\"><span class=\"typography_body-m__k2UI7 typography_appearance-subtle__PYOVM\" data-consumer-country-typography=\"true\">GB</span><span class=\"typography_body-xs__IKE8N typography_appearance-subtle__PYOVM\" data-lil-dot-typography=\"true\">•</span><span class=\"typography_body-m__k2UI7 typography_appearance-subtle__PYOVM\" data-consumer-reviews-count-typography=\"true\">31<!-- --> reviews</span></div></a></div></aside><div class=\"typography_body-m__k2UI7 typography_appearance-subtle__PYOVM\"><time class=\"\" data-service-review-date-time-ago=\"true\" datetime=\"2025-03-15T18:27:18.000Z\">6 days ago</time></div></div><section aria-disabled=\"false\" class=\"styles_reviewContentwrapper__Tzamw\"><div class=\"styles_reviewHeader__PuHBd\" data-service-review-rating=\"1\"><div class=\"star-rating_starRating__sdbkn star-rating_medium__Oj7C9\"><img alt=\"Rated 1 out of 5 stars\" src=\"https://cdn.trustpilot.net/brand-assets/4.1.0/stars/stars-1.svg\"/></div></div><div aria-hidden=\"false\" class=\"styles_reviewContent__SCYfD\" data-review-content=\"true\"><a class=\"link_internal__Eam_b typography_appearance-inherit__YnCNb link_link__jBdLV link_notUnderlined__y4Qsc\" data-review-title-typography=\"true\" href=\"/reviews/67d5aa666695b105e514f199\" rel=\"nofollow\" target=\"_self\"><h2 class=\"typography_heading-xs__osRhC typography_appearance-default__t8iAq\" data-service-review-title-typography=\"true\">Lidl SHOULD BE ASHAMED</h2></a><p class=\"typography_body-l__v5JLj typography_appearance-default__t8iAq\" data-service-review-text-typography=\"true\"><br/>Parking at the Farnham store is too confusing ( apart from the fact that it is not big enough).<br/>Customers, particularly the elderly and disadvantaged, are actually so distressed that they pay unjustified fines</p><p class=\"typography_body-m__k2UI7 typography_appearance-default__t8iAq\" data-service-review-date-of-experience-typography=\"true\"><b class=\"typography_body-m__k2UI7 typography_appearance-default__t8iAq typography_weight-heavy__rS52U\" weight=\"heavy\">Date of experience<!-- -->:</b> <span class=\"typography_body-m__k2UI7 typography_appearance-subtle__PYOVM\">15 March 2025</span></p></div></section><div class=\"paper_paper__EGeEb card_card__yyGgu card_noPadding__OOiac styles_wrapper___Td1L\"><div><svg fill=\"none\" height=\"38\" viewbox=\"0 0 14 38\" width=\"14\" xmlns=\"http://www.w3.org/2000/svg\"><path d=\"M1 1V25C1 31.6274 6.37258 37 13 37V37\" stroke=\"#E5E5DD\" stroke-linecap=\"round\" stroke-width=\"2\"></path></svg></div><div class=\"styles_content__BImMg\"><div class=\"styles_replyHeader__aEZg_\"><picture class=\"business-profile-image_containmentWrapper__xJZjr styles_businessLogo__ec7Rh\"><source srcset=\"https://consumersiteimages.trustpilot.net/business-units/4bdc15ee0000640005058609-198x149-1x.avif, https://consumersiteimages.trustpilot.net/business-units/4bdc15ee0000640005058609-198x149-2x.avif 2x\" type=\"image/avif\"/><source srcset=\"https://consumersiteimages.trustpilot.net/business-units/4bdc15ee0000640005058609-198x149-1x.jpg, https://consumersiteimages.trustpilot.net/business-units/4bdc15ee0000640005058609-198x149-2x.jpg 2x\" type=\"image/jpeg\"/><img alt=\"Lidl GB logo\" class=\"business-profile-image_image__V14jr\" decoding=\"async\" loading=\"lazy\" src=\"https://consumersiteimages.trustpilot.net/business-units/4bdc15ee0000640005058609-198x149-1x.jpg\"/></picture><div class=\"styles_replyInfo__VwTUN\"><p class=\"typography_body-m__k2UI7 typography_appearance-default__t8iAq typography_weight-heavy__rS52U styles_replyCompany__YykfC\" data-service-review-business-reply-title-typography=\"true\" weight=\"heavy\">Reply from Lidl GB</p><time class=\"typography_body-s__IqDta typography_appearance-default__t8iAq\" data-service-review-business-reply-date-time-ago=\"true\" datetime=\"2025-03-17T10:28:40.000Z\">4 days ago</time></div></div><p class=\"typography_body-m__k2UI7 typography_appearance-default__t8iAq styles_message__l9HgT\" data-service-review-business-reply-text-typography=\"true\">Hello. We're sorry to hear this. The car park a 90 minutes stay. Your required to enter your vehicle registration number into the terminal in-store and scan your receipt upon exit to validate your parking. - Farrah</p></div></div></div></article>]"
      ]
     },
     "execution_count": 90,
     "metadata": {},
     "output_type": "execute_result"
    }
   ],
   "source": [
    "# This gets all the reviews from the store\n",
    "soup.select('article')"
   ]
  },
  {
   "cell_type": "code",
   "execution_count": 91,
   "id": "51394c1c",
   "metadata": {},
   "outputs": [
    {
     "data": {
      "text/plain": [
       "[<article class=\"styles_reviewCard__wHynN\" data-service-review-card-paper=\"true\"><aside aria-label=\"Info for J Q\" class=\"styles_consumerInfoWrapper__uQZDN\"><div class=\"styles_consumerDetailsWrapper__LSBJS\"><div class=\"avatar_imageWrapper__9hWrp\" style=\"width:44px;height:44px;min-width:44px;min-height:44px\"><img alt=\"\" data-consumer-avatar-image=\"true\" data-nimg=\"1\" decoding=\"async\" height=\"44\" loading=\"lazy\" src=\"https://user-images.trustpilot.com/67dc432e20cf684fc766a783/73x73.png\" style=\"color:transparent\" width=\"44\"/></div><a class=\"link_internal__Eam_b link_wrapper__ahpyq styles_consumerDetails__qg84T\" data-consumer-profile-link=\"true\" href=\"/users/67dc432e20cf684fc766a783\" name=\"consumer-profile\" rel=\"nofollow\" target=\"_self\"><span class=\"typography_heading-xs__osRhC typography_appearance-default__t8iAq\" data-consumer-name-typography=\"true\">J Q</span><div class=\"styles_consumerExtraDetails__TylYM\" data-consumer-reviews-count=\"1\"><div class=\"typography_body-m__k2UI7 typography_appearance-subtle__PYOVM\"><time class=\"\" data-service-review-date-time-ago=\"true\" datetime=\"2025-03-20T18:32:53.000Z\">A day ago</time></div></div></a></div></aside><div class=\"styles_starRating__9xFHb\"><div class=\"star-rating_starRating__sdbkn star-rating_small__QylNX\"><img alt=\"Rated 1 out of 5 stars\" src=\"https://cdn.trustpilot.net/brand-assets/4.1.0/stars/stars-1.svg\"/></div></div><p class=\"typography_body-l__v5JLj typography_appearance-default__t8iAq\" data-relevant-review-text-typography=\"true\"><span class=\"styles_previewText__afbaG\">Lawrence Hill store - long wait at both manned and self service checkouts, due to withdrawal of small baskets and customers using self service checkouts for large amounts of shopping.   Also, staff ha</span><span class=\"styles_truncatedText__SYw6V\">d great difficulty sorting out the price of an item at the checkout (seemed to be a fault on the computer system).   Poor approach from store manager - very defensive and no apologies to customers for the excessive delay and inconvenience. </span><button class=\"styles_readMore__Bevrq styles_seeMore__PqsxA button_button__EM6gX button_appearance-link__kao21\" data-read-more-button=\"true\" name=\"read-more\" type=\"button\"><span class=\"typography_body-l__v5JLj typography_appearance-inherit__YnCNb link_link__jBdLV link_notUnderlined__y4Qsc\">See more</span></button></p></article>]"
      ]
     },
     "execution_count": 91,
     "metadata": {},
     "output_type": "execute_result"
    }
   ],
   "source": [
    "# This gets the first review from the store\n",
    "soup.select('article')[:1]"
   ]
  },
  {
   "cell_type": "markdown",
   "id": "0e2c78d1",
   "metadata": {},
   "source": [
    "### Getting Authors of the reviews"
   ]
  },
  {
   "cell_type": "code",
   "execution_count": 92,
   "id": "6e8b7130",
   "metadata": {},
   "outputs": [
    {
     "name": "stdout",
     "output_type": "stream",
     "text": [
      "J Q\n",
      "Elizabeth Beirne\n",
      "Mohammed\n",
      "Magda Fellino\n",
      "Stephen\n",
      "Adam Cadman\n",
      "Christine Espley\n",
      "Mohammed\n",
      "J Q\n",
      "Elizabeth Beirne\n"
     ]
    }
   ],
   "source": [
    "# Iterate through each <article> tag (each review) \n",
    "for article in soup.select('article')[:10]:\n",
    "    # finding the tags associated to the article\n",
    "    author_element = article.find('span', class_=\"typography_heading-xs__osRhC typography_appearance-default__t8iAq\", \n",
    "                                  attrs={\"data-consumer-name-typography\": \"true\"})\n",
    "    if author_element:\n",
    "        review_author = author_element.text.strip()\n",
    "        print(review_author)\n",
    "    else:\n",
    "        print(\"No Title Found!\")"
   ]
  },
  {
   "cell_type": "markdown",
   "id": "14555614",
   "metadata": {},
   "source": [
    "### Getting the title of review"
   ]
  },
  {
   "cell_type": "code",
   "execution_count": 93,
   "id": "9bb4d288",
   "metadata": {},
   "outputs": [
    {
     "name": "stdout",
     "output_type": "stream",
     "text": [
      "No Title Found!\n",
      "No Title Found!\n",
      "No Title Found!\n",
      "No Title Found!\n",
      "Con artists\n",
      "Lidl - my most useful supermarket!\n",
      "Nordic “promotion” my aunt sally.\n",
      "Arrogant aggressive accusing blaming dishonest managers\n",
      "Lawrence Hill store\n",
      "huge clump of hair in cretan pies…nice\n"
     ]
    }
   ],
   "source": [
    "# Iterate through each <article> tag (each review) \n",
    "for article in soup.select('article')[:10]:\n",
    "    # finding the tags associated to the review title\n",
    "    title_element = article.find('h2', class_=\"typography_heading-xs__osRhC typography_appearance-default__t8iAq\", \n",
    "                                  attrs={\"data-service-review-title-typography\": \"true\"})\n",
    "    if title_element:\n",
    "        title = title_element.text.strip()\n",
    "        print(title)\n",
    "    else:\n",
    "        print(\"No Title Found!\")"
   ]
  },
  {
   "cell_type": "markdown",
   "id": "a2b6f354",
   "metadata": {},
   "source": [
    "### Combining the code to get both author and review title"
   ]
  },
  {
   "cell_type": "code",
   "execution_count": 94,
   "id": "af674092",
   "metadata": {},
   "outputs": [
    {
     "name": "stdout",
     "output_type": "stream",
     "text": [
      "Author: J Q\n",
      "Title: None\n",
      "--------------------\n",
      "Author: Elizabeth Beirne\n",
      "Title: None\n",
      "--------------------\n",
      "Author: Mohammed\n",
      "Title: None\n",
      "--------------------\n",
      "Author: Magda Fellino\n",
      "Title: None\n",
      "--------------------\n",
      "Author: Stephen\n",
      "Title: Con artists\n",
      "--------------------\n",
      "Author: Adam Cadman\n",
      "Title: Lidl - my most useful supermarket!\n",
      "--------------------\n",
      "Author: Christine Espley\n",
      "Title: Nordic “promotion” my aunt sally.\n",
      "--------------------\n",
      "Author: Mohammed\n",
      "Title: Arrogant aggressive accusing blaming dishonest managers\n",
      "--------------------\n",
      "Author: J Q\n",
      "Title: Lawrence Hill store\n",
      "--------------------\n",
      "Author: Elizabeth Beirne\n",
      "Title: huge clump of hair in cretan pies…nice\n",
      "--------------------\n"
     ]
    }
   ],
   "source": [
    "for article in soup.select('article')[:10]:\n",
    "    try:\n",
    "        # Correctly extract author using proper class name\n",
    "        author_tag = article.find('span', class_=\"typography_heading-xs__osRhC typography_appearance-default__t8iAq\")\n",
    "        author = author_tag.text.strip() if author_tag else None  # Fixed ternary operator syntax\n",
    "        \n",
    "        # Extract title from h2 tag with proper handling\n",
    "        title_tag = article.find('h2')\n",
    "        title = title_tag.text.strip() if title_tag else None  # Added .strip() for cleanliness\n",
    "\n",
    "    except Exception as inner_e:\n",
    "        print(f\"Error processing a review: {inner_e}\")\n",
    "        continue  # Skip to next iteration if error occurs\n",
    "\n",
    "    # Print statements moved outside the try-except block\n",
    "    print(f\"Author: {author}\")\n",
    "    print(f\"Title: {title}\")\n",
    "    print(\"-\" * 20)  # Separator between reviews"
   ]
  },
  {
   "cell_type": "markdown",
   "id": "d02f91e1",
   "metadata": {},
   "source": [
    "### Extracting the review date"
   ]
  },
  {
   "cell_type": "code",
   "execution_count": 95,
   "id": "c2fe8b11",
   "metadata": {},
   "outputs": [],
   "source": [
    "ex_article = soup.select('article')[5]\n",
    "p_tag = ex_article.find('p', class_=\"typography_body-m__k2UI7 typography_appearance-default__t8iAq\",\n",
    "                        attrs={\"data-service-review-date-of-experience-typography\": \"true\"})\n",
    "span_tag = p_tag.find('span', class_=\"typography_body-m__k2UI7 typography_appearance-subtle__PYOVM\")"
   ]
  },
  {
   "cell_type": "code",
   "execution_count": 96,
   "id": "1b2e40ae",
   "metadata": {},
   "outputs": [
    {
     "name": "stdout",
     "output_type": "stream",
     "text": [
      "Author: J Q\n",
      "Title: None\n",
      "Date: N/A\n",
      "--------------------\n",
      "Author: Elizabeth Beirne\n",
      "Title: None\n",
      "Date: N/A\n",
      "--------------------\n",
      "Author: Mohammed\n",
      "Title: None\n",
      "Date: N/A\n",
      "--------------------\n",
      "Author: Magda Fellino\n",
      "Title: None\n",
      "Date: N/A\n",
      "--------------------\n",
      "Author: Stephen\n",
      "Title: Con artists\n",
      "Date: 21 March 2025\n",
      "--------------------\n",
      "Author: Adam Cadman\n",
      "Title: Lidl - my most useful supermarket!\n",
      "Date: 21 March 2025\n",
      "--------------------\n",
      "Author: Christine Espley\n",
      "Title: Nordic “promotion” my aunt sally.\n",
      "Date: 15 March 2025\n",
      "--------------------\n",
      "Author: Mohammed\n",
      "Title: Arrogant aggressive accusing blaming dishonest managers\n",
      "Date: 04 February 2025\n",
      "--------------------\n",
      "Author: J Q\n",
      "Title: Lawrence Hill store\n",
      "Date: 20 March 2025\n",
      "--------------------\n",
      "Author: Elizabeth Beirne\n",
      "Title: huge clump of hair in cretan pies…nice\n",
      "Date: 19 March 2025\n",
      "--------------------\n"
     ]
    }
   ],
   "source": [
    "for article in soup.select('article')[:10]:\n",
    "    try:\n",
    "        # Correct class name formatting with proper string continuation\n",
    "        author_tag = article.find('span', \n",
    "            class_=\"typography_heading-xs__osRhC typography_appearance-default__t8iAq\")\n",
    "        author = author_tag.text.strip() if author_tag else None\n",
    "        \n",
    "        title_tag = article.find('h2')\n",
    "        title = title_tag.text.strip() if title_tag else None\n",
    "        \n",
    "        # Fix attribute selector syntax and add error handling\n",
    "        date_element = article.select_one('[data-service-review-date-of-experience-typography]')\n",
    "        date_text = date_element.text if date_element else \"N/A\"\n",
    "        dates = date_text.split(':')[-1].strip() if ':' in date_text else date_text\n",
    "\n",
    "    except Exception as inner_e:\n",
    "        print(f\"Error processing a review: {inner_e}\")\n",
    "        continue  # Skip to next review if error occurs\n",
    "\n",
    "    # Print statements moved outside the try block\n",
    "    print(f\"Author: {author}\")\n",
    "    print(f\"Title: {title}\")\n",
    "    print(f\"Date: {dates}\")\n",
    "    print(\"-\" * 20)"
   ]
  },
  {
   "cell_type": "markdown",
   "id": "fdb4652f",
   "metadata": {},
   "source": [
    "### Extracting review rating and review text."
   ]
  },
  {
   "cell_type": "code",
   "execution_count": 112,
   "id": "0ec85acb",
   "metadata": {},
   "outputs": [
    {
     "name": "stdout",
     "output_type": "stream",
     "text": [
      "Author: J Q\n",
      "Title: None\n",
      "Date: N/A\n",
      "Rating: N/A\n",
      "Review Text: None\n",
      "----------------------------------------\n",
      "Author: Elizabeth Beirne\n",
      "Title: None\n",
      "Date: N/A\n",
      "Rating: N/A\n",
      "Review Text: None\n",
      "----------------------------------------\n",
      "Author: Mohammed\n",
      "Title: None\n",
      "Date: N/A\n",
      "Rating: N/A\n",
      "Review Text: None\n",
      "----------------------------------------\n",
      "Author: Magda Fellino\n",
      "Title: None\n",
      "Date: N/A\n",
      "Rating: N/A\n",
      "Review Text: None\n",
      "----------------------------------------\n",
      "Author: Stephen\n",
      "Title: Con artists\n",
      "Date: 21 March 2025\n",
      "Rating: Rated 1 out of 5 stars\n",
      "Review Text: Con artists, offer you a free item etc, but if you buy more than one eligible they take the cheapest item off...joke\n",
      "----------------------------------------\n",
      "Author: Adam Cadman\n",
      "Title: Lidl - my most useful supermarket!\n",
      "Date: 21 March 2025\n",
      "Rating: Rated 5 out of 5 stars\n",
      "Review Text: I use my local Lidl (Binley Road, Coventry) for most of my shopping as it's within walking distance.The staff are friendly, and many recognise me and say Hi.The store, right at the end of the day can be a bit grubby but which supermarkets aren't? The rest of the time it's clean and (mostly!) well stocked.Anything they can improve?The offers on the app are too short lived - 7 days to accept an offer then 7 days to use it. By contrast, I recently went to Tesco (first time in months) and there were tokens waiting to be cashed on their card I appreciate that indefinite tokens aren't feasible, but 7 days is too short. Even just 14 days would be a huge improvement!\n",
      "----------------------------------------\n",
      "Author: Christine Espley\n",
      "Title: Nordic “promotion” my aunt sally.\n",
      "Date: 15 March 2025\n",
      "Rating: Rated 1 out of 5 stars\n",
      "Review Text: Went to Lidl in Cirencester, Woodley and Reading for the Nordic promotion. No meatballs, no Falukorv sausage. What a joke this company is. Will I get a reply, “Sorry to hear this!”  Useless shop.\n",
      "----------------------------------------\n",
      "Author: Mohammed\n",
      "Title: Arrogant aggressive accusing blaming dishonest managers\n",
      "Date: 04 February 2025\n",
      "Rating: Rated 1 out of 5 stars\n",
      "Review Text: Falsely accused of shopping. Aggressively stopped by security. Aggressive blaming accusing extremely arrogant managers with no customer service skill. Experts in confrontation. After checking my bags woefully non existent apology in an aggressive manner. Falsely teamed up and accused me an old man of coming up to. Never seen more arrogant managers in my life.\n",
      "----------------------------------------\n",
      "Author: J Q\n",
      "Title: Lawrence Hill store\n",
      "Date: 20 March 2025\n",
      "Rating: Rated 1 out of 5 stars\n",
      "Review Text: Lawrence Hill store - long wait at both manned and self service checkouts, due to withdrawal of small baskets and customers using self service checkouts for large amounts of shopping.   Also, staff had great difficulty sorting out the price of an item at the checkout (seemed to be a fault on the computer system).   Poor approach from store manager - very defensive and no apologies to customers for the excessive delay and inconvenience.\n",
      "----------------------------------------\n",
      "Author: Elizabeth Beirne\n",
      "Title: huge clump of hair in cretan pies…nice\n",
      "Date: 19 March 2025\n",
      "Rating: Rated 1 out of 5 stars\n",
      "Review Text: huge clump of hair in cretan pies frozen from the greek range, tried to call but can only do on whatsapp, they will not take a call and when i messaged someone, they said they could not call me back.  Customer service is non existent, not interested...they do not want to listen to their customers then....appalling, would give zero stars if i could\n",
      "----------------------------------------\n"
     ]
    }
   ],
   "source": [
    "for article in soup.select('article')[:10]:\n",
    "    try:\n",
    "        author_tag = article.find('span', \n",
    "                                  class_=\"typography_heading-xs__osRhC typography_appearance-default__t8iAq\")\n",
    "        author = author_tag.text.strip() if author_tag else None  # Fixed variable name check\n",
    "        \n",
    "        title_tag = article.find('h2')  # Replace 'h2' with the correct tag (e.g., 'h3', 'div')\n",
    "        title = title_tag.text.strip() if title_tag else None\n",
    "        \n",
    "        # Date\n",
    "        date_element = article.select_one('[data-service-review-date-of-experience-typography]')\n",
    "        dates = date_element.text.split(':')[-1].strip() if date_element else \"N/A\"\n",
    "        \n",
    "        # Rating\n",
    "        rating_element = article.select_one('[data-service-review-rating] img')\n",
    "        rating = rating_element['alt'] if rating_element else \"N/A\"  # Removed trailing comma\n",
    "        \n",
    "        # Review text\n",
    "        review_text_element = article.select_one('[data-service-review-text-typography]')\n",
    "        review_text = review_text_element.text.strip() if review_text_element else None\n",
    "        \n",
    "\n",
    "    except Exception as inner_e:\n",
    "        print(f\"Error processing a review: {inner_e}\")\n",
    "        continue  # Skip to next review if error occurs\n",
    "\n",
    "    # Print statements moved outside the try block for clarity\n",
    "    print(f\"Author: {author}\")\n",
    "    print(f\"Title: {title}\")\n",
    "    print(f\"Date: {dates}\")\n",
    "    print(f\"Rating: {rating}\")\n",
    "    print(f\"Review Text: {review_text}\")\n",
    "    print(\"-\" * 40)  # Separator between reviews"
   ]
  },
  {
   "cell_type": "markdown",
   "id": "7f101ead",
   "metadata": {},
   "source": [
    "## Saving All Reviews to Dataframe"
   ]
  },
  {
   "cell_type": "code",
   "execution_count": 100,
   "id": "5d661861",
   "metadata": {},
   "outputs": [],
   "source": [
    "import pandas as pd"
   ]
  },
  {
   "cell_type": "code",
   "execution_count": 114,
   "id": "ea7b273c",
   "metadata": {},
   "outputs": [],
   "source": [
    "# List to store all reviews\n",
    "all_reviews = []\n",
    "\n",
    "# Loop through pages (adjust 'max_pages' as needed)\n",
    "max_pages = 5  # Change this to scrape more pages\n",
    "for page_num in range(1, max_pages + 1):\n",
    "    try:\n",
    "        # Construct URL with page number\n",
    "        url = f\"https://uk.trustpilot.com/review/www.lidl.co.uk?page={page_num}\"\n",
    "        \n",
    "        # Extract reviews from current page\n",
    "        articles = soup.select('article')\n",
    "        \n",
    "        for article in articles:\n",
    "            try:\n",
    "                # Extract author\n",
    "                \n",
    "                author_tag = article.find('span',\n",
    "                                  class_=\"typography_heading-xs__osRhC typography_appearance-default__t8iAq\")\n",
    "                author = author_tag.text.strip() if author_tag else None\n",
    "            \n",
    "                \n",
    "                # Extract title\n",
    "                title_tag = article.find('h2')\n",
    "                title = title_tag.text.strip() if title_tag else None  # Added .strip() for cleanliness\n",
    "                \n",
    "                # Extract date\n",
    "                date_element = article.select_one('[data-service-review-date-of-experience-typography]')\n",
    "                date_text = date_element.text if date_element else \"N/A\"\n",
    "                review_date = date_text.split(':')[-1].strip() if ':' in date_text else date_text\n",
    "                \n",
    "                \n",
    "                # Extract rating\n",
    "                rating_element = article.select_one('[data-service-review-rating] img')\n",
    "                rating = rating_element['alt'] if rating_element else \"N/A\"\n",
    "                \n",
    "                # Extract review text\n",
    "                review_text_element = article.select_one('[data-service-review-text-typography]')\n",
    "                review_text = review_text_element.text.strip() if review_text_element else None\n",
    "                \n",
    "                # Create dictionary and append to list\n",
    "                review_dict = {\n",
    "                    'review_author': author,\n",
    "                    'review_date_original': review_date,\n",
    "                    'review_title': title,\n",
    "                    'review_rating': rating,\n",
    "                    'review_text': review_text,\n",
    "                    'page_number': page_num\n",
    "                }\n",
    "                all_reviews.append(review_dict)\n",
    "                \n",
    "            except Exception as e:\n",
    "                print(f\"Error processing a review on page {page_num}: {e}\")\n",
    "                continue  # Skip to next review\n",
    "            \n",
    "        # Add delay to avoid IP blocking\n",
    "#         time.sleep(2)\n",
    "        \n",
    "    except Exception as e:\n",
    "        print(f\"Error on page {page_num}: {e}\")\n",
    "        continue\n",
    "\n",
    "# Convert list of dictionaries to DataFrame\n",
    "df = pd.DataFrame(all_reviews)"
   ]
  },
  {
   "cell_type": "code",
   "execution_count": 115,
   "id": "3c3b6d20",
   "metadata": {},
   "outputs": [
    {
     "data": {
      "text/html": [
       "<div>\n",
       "<style scoped>\n",
       "    .dataframe tbody tr th:only-of-type {\n",
       "        vertical-align: middle;\n",
       "    }\n",
       "\n",
       "    .dataframe tbody tr th {\n",
       "        vertical-align: top;\n",
       "    }\n",
       "\n",
       "    .dataframe thead th {\n",
       "        text-align: right;\n",
       "    }\n",
       "</style>\n",
       "<table border=\"1\" class=\"dataframe\">\n",
       "  <thead>\n",
       "    <tr style=\"text-align: right;\">\n",
       "      <th></th>\n",
       "      <th>review_author</th>\n",
       "      <th>review_date_original</th>\n",
       "      <th>review_title</th>\n",
       "      <th>review_rating</th>\n",
       "      <th>review_text</th>\n",
       "      <th>page_number</th>\n",
       "    </tr>\n",
       "  </thead>\n",
       "  <tbody>\n",
       "    <tr>\n",
       "      <th>0</th>\n",
       "      <td>J Q</td>\n",
       "      <td>N/A</td>\n",
       "      <td>None</td>\n",
       "      <td>N/A</td>\n",
       "      <td>None</td>\n",
       "      <td>1</td>\n",
       "    </tr>\n",
       "    <tr>\n",
       "      <th>1</th>\n",
       "      <td>Elizabeth Beirne</td>\n",
       "      <td>N/A</td>\n",
       "      <td>None</td>\n",
       "      <td>N/A</td>\n",
       "      <td>None</td>\n",
       "      <td>1</td>\n",
       "    </tr>\n",
       "    <tr>\n",
       "      <th>2</th>\n",
       "      <td>Mohammed</td>\n",
       "      <td>N/A</td>\n",
       "      <td>None</td>\n",
       "      <td>N/A</td>\n",
       "      <td>None</td>\n",
       "      <td>1</td>\n",
       "    </tr>\n",
       "    <tr>\n",
       "      <th>3</th>\n",
       "      <td>Magda Fellino</td>\n",
       "      <td>N/A</td>\n",
       "      <td>None</td>\n",
       "      <td>N/A</td>\n",
       "      <td>None</td>\n",
       "      <td>1</td>\n",
       "    </tr>\n",
       "    <tr>\n",
       "      <th>4</th>\n",
       "      <td>Stephen</td>\n",
       "      <td>21 March 2025</td>\n",
       "      <td>Con artists</td>\n",
       "      <td>Rated 1 out of 5 stars</td>\n",
       "      <td>Con artists, offer you a free item etc, but if...</td>\n",
       "      <td>1</td>\n",
       "    </tr>\n",
       "    <tr>\n",
       "      <th>...</th>\n",
       "      <td>...</td>\n",
       "      <td>...</td>\n",
       "      <td>...</td>\n",
       "      <td>...</td>\n",
       "      <td>...</td>\n",
       "      <td>...</td>\n",
       "    </tr>\n",
       "    <tr>\n",
       "      <th>115</th>\n",
       "      <td>Paul</td>\n",
       "      <td>15 March 2025</td>\n",
       "      <td>Lidl Twickenham please sell to Aldi.</td>\n",
       "      <td>Rated 1 out of 5 stars</td>\n",
       "      <td>Lidl Twickenham removed numerous tills to inst...</td>\n",
       "      <td>5</td>\n",
       "    </tr>\n",
       "    <tr>\n",
       "      <th>116</th>\n",
       "      <td>Sweetpea</td>\n",
       "      <td>15 March 2025</td>\n",
       "      <td>Taunton Lidls lettuce not chilled- now floppy...</td>\n",
       "      <td>Rated 1 out of 5 stars</td>\n",
       "      <td>Taunton Lidls now, for some weeks, keeps lettu...</td>\n",
       "      <td>5</td>\n",
       "    </tr>\n",
       "    <tr>\n",
       "      <th>117</th>\n",
       "      <td>Mark Hennessy</td>\n",
       "      <td>24 February 2025</td>\n",
       "      <td>Lidl in Fakenham in Norfolk has great…</td>\n",
       "      <td>Rated 5 out of 5 stars</td>\n",
       "      <td>Lidl in Fakenham in Norfolk has great staff wh...</td>\n",
       "      <td>5</td>\n",
       "    </tr>\n",
       "    <tr>\n",
       "      <th>118</th>\n",
       "      <td>MR D STALKER</td>\n",
       "      <td>16 March 2025</td>\n",
       "      <td>Frustrating</td>\n",
       "      <td>Rated 3 out of 5 stars</td>\n",
       "      <td>I do like Lidl but find it very frustrating wh...</td>\n",
       "      <td>5</td>\n",
       "    </tr>\n",
       "    <tr>\n",
       "      <th>119</th>\n",
       "      <td>LOLly</td>\n",
       "      <td>15 March 2025</td>\n",
       "      <td>Lidl SHOULD BE ASHAMED</td>\n",
       "      <td>Rated 1 out of 5 stars</td>\n",
       "      <td>Parking at the Farnham store is too confusing ...</td>\n",
       "      <td>5</td>\n",
       "    </tr>\n",
       "  </tbody>\n",
       "</table>\n",
       "<p>120 rows × 6 columns</p>\n",
       "</div>"
      ],
      "text/plain": [
       "        review_author review_date_original  \\\n",
       "0                 J Q                  N/A   \n",
       "1    Elizabeth Beirne                  N/A   \n",
       "2            Mohammed                  N/A   \n",
       "3       Magda Fellino                  N/A   \n",
       "4             Stephen        21 March 2025   \n",
       "..                ...                  ...   \n",
       "115              Paul        15 March 2025   \n",
       "116          Sweetpea        15 March 2025   \n",
       "117     Mark Hennessy     24 February 2025   \n",
       "118      MR D STALKER        16 March 2025   \n",
       "119             LOLly        15 March 2025   \n",
       "\n",
       "                                         review_title           review_rating  \\\n",
       "0                                                None                     N/A   \n",
       "1                                                None                     N/A   \n",
       "2                                                None                     N/A   \n",
       "3                                                None                     N/A   \n",
       "4                                         Con artists  Rated 1 out of 5 stars   \n",
       "..                                                ...                     ...   \n",
       "115              Lidl Twickenham please sell to Aldi.  Rated 1 out of 5 stars   \n",
       "116  Taunton Lidls lettuce not chilled- now floppy...  Rated 1 out of 5 stars   \n",
       "117            Lidl in Fakenham in Norfolk has great…  Rated 5 out of 5 stars   \n",
       "118                                       Frustrating  Rated 3 out of 5 stars   \n",
       "119                            Lidl SHOULD BE ASHAMED  Rated 1 out of 5 stars   \n",
       "\n",
       "                                           review_text  page_number  \n",
       "0                                                 None            1  \n",
       "1                                                 None            1  \n",
       "2                                                 None            1  \n",
       "3                                                 None            1  \n",
       "4    Con artists, offer you a free item etc, but if...            1  \n",
       "..                                                 ...          ...  \n",
       "115  Lidl Twickenham removed numerous tills to inst...            5  \n",
       "116  Taunton Lidls now, for some weeks, keeps lettu...            5  \n",
       "117  Lidl in Fakenham in Norfolk has great staff wh...            5  \n",
       "118  I do like Lidl but find it very frustrating wh...            5  \n",
       "119  Parking at the Farnham store is too confusing ...            5  \n",
       "\n",
       "[120 rows x 6 columns]"
      ]
     },
     "execution_count": 115,
     "metadata": {},
     "output_type": "execute_result"
    }
   ],
   "source": [
    "df"
   ]
  },
  {
   "cell_type": "code",
   "execution_count": null,
   "id": "2bc477c5",
   "metadata": {},
   "outputs": [],
   "source": []
  }
 ],
 "metadata": {
  "kernelspec": {
   "display_name": "Python 3 (ipykernel)",
   "language": "python",
   "name": "python3"
  },
  "language_info": {
   "codemirror_mode": {
    "name": "ipython",
    "version": 3
   },
   "file_extension": ".py",
   "mimetype": "text/x-python",
   "name": "python",
   "nbconvert_exporter": "python",
   "pygments_lexer": "ipython3",
   "version": "3.9.13"
  }
 },
 "nbformat": 4,
 "nbformat_minor": 5
}
